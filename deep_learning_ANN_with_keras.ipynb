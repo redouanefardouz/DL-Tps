{
 "cells": [
  {
   "cell_type": "markdown",
   "metadata": {},
   "source": [
    "# ANN_with_keras"
   ]
  },
  {
   "cell_type": "markdown",
   "metadata": {},
   "source": [
    "# Setup"
   ]
  },
  {
   "cell_type": "markdown",
   "metadata": {},
   "source": [
    "Firstly, lets import a few common modules, ensure MatplotLib plots figures inline and prepare a function to save the figures. We also check that Python 3.5 or later is installed (although Python 2.x may work, it is deprecated so we strongly recommend you use Python 3 instead), as well as Scikit-Learn ≥0.20 and TensorFlow ≥2.0."
   ]
  },
  {
   "cell_type": "code",
   "execution_count": 4,
   "metadata": {},
   "outputs": [],
   "source": [
    "# Common imports\n",
    "import numpy as np\n",
    "import os"
   ]
  },
  {
   "cell_type": "code",
   "execution_count": 5,
   "metadata": {},
   "outputs": [],
   "source": [
    "# to make this notebook's output stable across runs\n",
    "np.random.seed(42)\n",
    "\n",
    "# To plot pretty figures\n",
    "%matplotlib inline\n",
    "import matplotlib as mpl\n",
    "import matplotlib.pyplot as plt\n",
    "mpl.rc('axes', labelsize=14)\n",
    "mpl.rc('xtick', labelsize=12)\n",
    "mpl.rc('ytick', labelsize=12)\n",
    "\n"
   ]
  },
  {
   "cell_type": "code",
   "execution_count": 3,
   "metadata": {},
   "outputs": [],
   "source": [
    "# Ignore useless warnings (see SciPy issue #5998)\n",
    "import warnings\n",
    "warnings.filterwarnings(action=\"ignore\", message=\"^internal gelsd\")"
   ]
  },
  {
   "cell_type": "markdown",
   "metadata": {},
   "source": [
    "update  ==  conda install -c conda-forge tensorflow=2.1.0"
   ]
  },
  {
   "cell_type": "markdown",
   "metadata": {},
   "source": [
    "First let's import TensorFlow and Keras."
   ]
  },
  {
   "cell_type": "code",
   "execution_count": 4,
   "metadata": {},
   "outputs": [],
   "source": [
    "import tensorflow as tf\n",
    "from tensorflow import keras"
   ]
  },
  {
   "cell_type": "code",
   "execution_count": 5,
   "metadata": {},
   "outputs": [
    {
     "data": {
      "text/plain": [
       "'2.3.1'"
      ]
     },
     "execution_count": 5,
     "metadata": {},
     "output_type": "execute_result"
    }
   ],
   "source": [
    "tf.__version__"
   ]
  },
  {
   "cell_type": "markdown",
   "metadata": {},
   "source": [
    "Let's start by loading the fashion MNIST dataset. Keras has a number of functions to load popular datasets in keras.datasets. The dataset is already split for you between a training set and a test set, but it can be useful to split the training set further to have a validation set:"
   ]
  },
  {
   "cell_type": "code",
   "execution_count": 6,
   "metadata": {},
   "outputs": [],
   "source": [
    "fashion_mnist = keras.datasets.fashion_mnist\n",
    "(X_train_full, y_train_full), (X_test, y_test) = fashion_mnist.load_data()"
   ]
  },
  {
   "cell_type": "markdown",
   "metadata": {},
   "source": [
    "The training set contains 60,000 grayscale images, each 28x28 pixels and Each pixel intensity is represented as a byte (0 to 255)::"
   ]
  },
  {
   "cell_type": "code",
   "execution_count": 7,
   "metadata": {},
   "outputs": [
    {
     "data": {
      "text/plain": [
       "(60000, 28, 28)"
      ]
     },
     "execution_count": 7,
     "metadata": {},
     "output_type": "execute_result"
    }
   ],
   "source": [
    "X_train_full.shape"
   ]
  },
  {
   "cell_type": "code",
   "execution_count": 8,
   "metadata": {},
   "outputs": [
    {
     "data": {
      "text/plain": [
       "array([[[0, 0, 0, ..., 0, 0, 0],\n",
       "        [0, 0, 0, ..., 0, 0, 0],\n",
       "        [0, 0, 0, ..., 0, 0, 0],\n",
       "        ...,\n",
       "        [0, 0, 0, ..., 0, 0, 0],\n",
       "        [0, 0, 0, ..., 0, 0, 0],\n",
       "        [0, 0, 0, ..., 0, 0, 0]],\n",
       "\n",
       "       [[0, 0, 0, ..., 0, 0, 0],\n",
       "        [0, 0, 0, ..., 0, 0, 0],\n",
       "        [0, 0, 0, ..., 0, 0, 0],\n",
       "        ...,\n",
       "        [0, 0, 0, ..., 0, 0, 0],\n",
       "        [0, 0, 0, ..., 0, 0, 0],\n",
       "        [0, 0, 0, ..., 0, 0, 0]],\n",
       "\n",
       "       [[0, 0, 0, ..., 0, 0, 0],\n",
       "        [0, 0, 0, ..., 0, 0, 0],\n",
       "        [0, 0, 0, ..., 0, 0, 0],\n",
       "        ...,\n",
       "        [0, 0, 0, ..., 0, 0, 0],\n",
       "        [0, 0, 0, ..., 0, 0, 0],\n",
       "        [0, 0, 0, ..., 0, 0, 0]],\n",
       "\n",
       "       ...,\n",
       "\n",
       "       [[0, 0, 0, ..., 0, 0, 0],\n",
       "        [0, 0, 0, ..., 0, 0, 0],\n",
       "        [0, 0, 0, ..., 0, 0, 0],\n",
       "        ...,\n",
       "        [0, 0, 0, ..., 0, 0, 0],\n",
       "        [0, 0, 0, ..., 0, 0, 0],\n",
       "        [0, 0, 0, ..., 0, 0, 0]],\n",
       "\n",
       "       [[0, 0, 0, ..., 0, 0, 0],\n",
       "        [0, 0, 0, ..., 0, 0, 0],\n",
       "        [0, 0, 0, ..., 0, 0, 0],\n",
       "        ...,\n",
       "        [0, 0, 0, ..., 0, 0, 0],\n",
       "        [0, 0, 0, ..., 0, 0, 0],\n",
       "        [0, 0, 0, ..., 0, 0, 0]],\n",
       "\n",
       "       [[0, 0, 0, ..., 0, 0, 0],\n",
       "        [0, 0, 0, ..., 0, 0, 0],\n",
       "        [0, 0, 0, ..., 0, 0, 0],\n",
       "        ...,\n",
       "        [0, 0, 0, ..., 0, 0, 0],\n",
       "        [0, 0, 0, ..., 0, 0, 0],\n",
       "        [0, 0, 0, ..., 0, 0, 0]]], dtype=uint8)"
      ]
     },
     "execution_count": 8,
     "metadata": {},
     "output_type": "execute_result"
    }
   ],
   "source": [
    "X_train_full"
   ]
  },
  {
   "cell_type": "code",
   "execution_count": 9,
   "metadata": {},
   "outputs": [
    {
     "data": {
      "text/plain": [
       "(60000,)"
      ]
     },
     "execution_count": 9,
     "metadata": {},
     "output_type": "execute_result"
    }
   ],
   "source": [
    "y_train_full.shape"
   ]
  },
  {
   "cell_type": "code",
   "execution_count": 10,
   "metadata": {},
   "outputs": [
    {
     "data": {
      "text/plain": [
       "array([9, 0, 0, ..., 3, 0, 5], dtype=uint8)"
      ]
     },
     "execution_count": 10,
     "metadata": {},
     "output_type": "execute_result"
    }
   ],
   "source": [
    "y_train_full"
   ]
  },
  {
   "cell_type": "markdown",
   "metadata": {},
   "source": [
    "The testing set contains 10000 grayscale images, each 28x28 pixels:"
   ]
  },
  {
   "cell_type": "code",
   "execution_count": 11,
   "metadata": {},
   "outputs": [
    {
     "data": {
      "text/plain": [
       "(10000, 28, 28)"
      ]
     },
     "execution_count": 11,
     "metadata": {},
     "output_type": "execute_result"
    }
   ],
   "source": [
    "X_test.shape"
   ]
  },
  {
   "cell_type": "code",
   "execution_count": 12,
   "metadata": {},
   "outputs": [
    {
     "data": {
      "text/plain": [
       "array([9, 2, 1, ..., 8, 1, 5], dtype=uint8)"
      ]
     },
     "execution_count": 12,
     "metadata": {},
     "output_type": "execute_result"
    }
   ],
   "source": [
    "y_test"
   ]
  },
  {
   "cell_type": "markdown",
   "metadata": {},
   "source": [
    "Let's split the full training set into a validation set and a (smaller) training set.\n",
    "We also scale the pixel intensities down to the 0-1 range and convert them to floats, by dividing by 255."
   ]
  },
  {
   "cell_type": "code",
   "execution_count": 13,
   "metadata": {},
   "outputs": [],
   "source": [
    "X_valid, X_train = X_train_full[:5000] / 255., X_train_full[5000:] / 255.\n",
    "y_valid, y_train = y_train_full[:5000], y_train_full[5000:]\n",
    "X_test = X_test / 255."
   ]
  },
  {
   "cell_type": "markdown",
   "metadata": {},
   "source": [
    "The validation set contains 5,000 images, and the test set contains 10,000 images:"
   ]
  },
  {
   "cell_type": "code",
   "execution_count": 14,
   "metadata": {},
   "outputs": [
    {
     "data": {
      "text/plain": [
       "(5000, 28, 28)"
      ]
     },
     "execution_count": 14,
     "metadata": {},
     "output_type": "execute_result"
    }
   ],
   "source": [
    "X_valid.shape"
   ]
  },
  {
   "cell_type": "code",
   "execution_count": 15,
   "metadata": {},
   "outputs": [
    {
     "data": {
      "text/plain": [
       "(55000, 28, 28)"
      ]
     },
     "execution_count": 15,
     "metadata": {},
     "output_type": "execute_result"
    }
   ],
   "source": [
    "X_train.shape"
   ]
  },
  {
   "cell_type": "code",
   "execution_count": 16,
   "metadata": {},
   "outputs": [
    {
     "data": {
      "text/plain": [
       "(10000, 28, 28)"
      ]
     },
     "execution_count": 16,
     "metadata": {},
     "output_type": "execute_result"
    }
   ],
   "source": [
    "X_test.shape"
   ]
  },
  {
   "cell_type": "markdown",
   "metadata": {},
   "source": [
    "You can plot an image using Matplotlib's imshow() function, with a 'binary' color map:"
   ]
  },
  {
   "cell_type": "markdown",
   "metadata": {},
   "source": [
    "train "
   ]
  },
  {
   "cell_type": "code",
   "execution_count": 17,
   "metadata": {},
   "outputs": [
    {
     "data": {
      "image/png": "[encoded data removed]",
      "text/plain": [
       "<Figure size 432x288 with 1 Axes>"
      ]
     },
     "metadata": {
      "needs_background": "light"
     },
     "output_type": "display_data"
    }
   ],
   "source": [
    "plt.imshow(X_train[0], cmap=\"binary\")\n",
    "plt.axis('off')\n",
    "plt.show()"
   ]
  },
  {
   "cell_type": "code",
   "execution_count": 18,
   "metadata": {},
   "outputs": [
    {
     "data": {
      "image/png": "[encoded data removed]",
      "text/plain": [
       "<Figure size 432x288 with 1 Axes>"
      ]
     },
     "metadata": {
      "needs_background": "light"
     },
     "output_type": "display_data"
    }
   ],
   "source": [
    "plt.imshow(X_valid[0], cmap=\"binary\")\n",
    "plt.axis('off')\n",
    "plt.show()"
   ]
  },
  {
   "cell_type": "code",
   "execution_count": 19,
   "metadata": {},
   "outputs": [
    {
     "data": {
      "image/png": "[encoded data removed]",
      "text/plain": [
       "<Figure size 432x288 with 1 Axes>"
      ]
     },
     "metadata": {
      "needs_background": "light"
     },
     "output_type": "display_data"
    }
   ],
   "source": [
    "plt.imshow(X_test[0], cmap=\"binary\")\n",
    "plt.axis('off')\n",
    "plt.show()"
   ]
  },
  {
   "cell_type": "markdown",
   "metadata": {},
   "source": [
    "The labels are the class IDs (represented as uint8), from 0 to 9:"
   ]
  },
  {
   "cell_type": "code",
   "execution_count": 20,
   "metadata": {},
   "outputs": [
    {
     "data": {
      "text/plain": [
       "array([4, 0, 7, ..., 3, 0, 5], dtype=uint8)"
      ]
     },
     "execution_count": 20,
     "metadata": {},
     "output_type": "execute_result"
    }
   ],
   "source": [
    "y_train"
   ]
  },
  {
   "cell_type": "markdown",
   "metadata": {},
   "source": [
    "Here are the corresponding class names:"
   ]
  },
  {
   "cell_type": "code",
   "execution_count": 21,
   "metadata": {},
   "outputs": [],
   "source": [
    "class_names = [\"T-shirt/top\", \"Trouser\", \"Pullover\", \"Dress\", \"Coat\",\"Sandal\", \"Shirt\", \"Sneaker\", \"Bag\", \"Ankle boot\"]"
   ]
  },
  {
   "cell_type": "markdown",
   "metadata": {},
   "source": [
    "So the first image in the training set is a coat:"
   ]
  },
  {
   "cell_type": "code",
   "execution_count": 22,
   "metadata": {},
   "outputs": [
    {
     "data": {
      "text/plain": [
       "'Coat'"
      ]
     },
     "execution_count": 22,
     "metadata": {},
     "output_type": "execute_result"
    }
   ],
   "source": [
    "class_names[y_train[0]]"
   ]
  },
  {
   "cell_type": "markdown",
   "metadata": {},
   "source": [
    "Let's take a look at a sample of the images in the dataset:"
   ]
  },
  {
   "cell_type": "code",
   "execution_count": 23,
   "metadata": {},
   "outputs": [
    {
     "data": {
      "image/png": "[encoded data removed]",
      "text/plain": [
       "<Figure size 864x345.6 with 40 Axes>"
      ]
     },
     "metadata": {
      "needs_background": "light"
     },
     "output_type": "display_data"
    }
   ],
   "source": [
    "n_rows = 4\n",
    "n_cols = 10\n",
    "plt.figure(figsize=(n_cols * 1.2, n_rows * 1.2))\n",
    "for row in range(n_rows):\n",
    "    for col in range(n_cols):\n",
    "        index = n_cols * row + col\n",
    "        plt.subplot(n_rows, n_cols, index + 1)\n",
    "        plt.imshow(X_train[index], cmap=\"binary\", interpolation=\"nearest\")\n",
    "        plt.axis('off')\n",
    "        plt.title(class_names[y_train[index]], fontsize=12)\n",
    "plt.subplots_adjust(wspace=0.1, hspace=0.5)\n",
    "plt.show()"
   ]
  },
  {
   "cell_type": "markdown",
   "metadata": {},
   "source": [
    "Construct a Model"
   ]
  },
  {
   "cell_type": "code",
   "execution_count": 24,
   "metadata": {},
   "outputs": [],
   "source": [
    "from IPython.display import Image "
   ]
  },
  {
   "cell_type": "markdown",
   "metadata": {},
   "source": [
    "RELU function"
   ]
  },
  {
   "cell_type": "code",
   "execution_count": 25,
   "metadata": {},
   "outputs": [
    {
     "data": {
      "text/html": [
       "<img src=\"https://intelligence-artificielle.agency/wp-content/uploads/2018/03/Capture-d’écran-2018-03-06-à-11.38.12.png\"/>"
      ],
      "text/plain": [
       "<IPython.core.display.Image object>"
      ]
     },
     "execution_count": 25,
     "metadata": {},
     "output_type": "execute_result"
    }
   ],
   "source": [
    "Image(url=\"https://intelligence-artificielle.agency/wp-content/uploads/2018/03/Capture-d’écran-2018-03-06-à-11.38.12.png\")"
   ]
  },
  {
   "cell_type": "markdown",
   "metadata": {},
   "source": [
    "softmax Function "
   ]
  },
  {
   "cell_type": "code",
   "execution_count": 26,
   "metadata": {},
   "outputs": [
    {
     "data": {
      "text/html": [
       "<img src=\"https://themaverickmeerkat.com/img/softmax/sigmoid_plot.jpg\"/>"
      ],
      "text/plain": [
       "<IPython.core.display.Image object>"
      ]
     },
     "execution_count": 26,
     "metadata": {},
     "output_type": "execute_result"
    }
   ],
   "source": [
    "Image(url=\"https://themaverickmeerkat.com/img/softmax/sigmoid_plot.jpg\")"
   ]
  },
  {
   "cell_type": "code",
   "execution_count": 27,
   "metadata": {},
   "outputs": [],
   "source": [
    "model = keras.models.Sequential()\n",
    "model.add(keras.layers.Flatten(input_shape=[28, 28]))\n",
    "model.add(keras.layers.Dense(300, activation=\"relu\"))\n",
    "model.add(keras.layers.Dense(100, activation=\"relu\"))\n",
    "model.add(keras.layers.Dense(10, activation=\"softmax\"))"
   ]
  },
  {
   "cell_type": "code",
   "execution_count": 28,
   "metadata": {},
   "outputs": [],
   "source": [
    "keras.backend.clear_session()\n",
    "np.random.seed(42)#?"
   ]
  },
  {
   "cell_type": "code",
   "execution_count": 29,
   "metadata": {},
   "outputs": [
    {
     "data": {
      "text/plain": [
       "[<tensorflow.python.keras.layers.core.Flatten at 0x1cf22482508>,\n",
       " <tensorflow.python.keras.layers.core.Dense at 0x1cf22480d08>,\n",
       " <tensorflow.python.keras.layers.core.Dense at 0x1cf3cdb6a08>,\n",
       " <tensorflow.python.keras.layers.core.Dense at 0x1cf3cde8508>]"
      ]
     },
     "execution_count": 29,
     "metadata": {},
     "output_type": "execute_result"
    }
   ],
   "source": [
    "model.layers"
   ]
  },
  {
   "cell_type": "code",
   "execution_count": 30,
   "metadata": {},
   "outputs": [
    {
     "name": "stdout",
     "output_type": "stream",
     "text": [
      "Model: \"sequential\"\n",
      "_________________________________________________________________\n",
      "Layer (type)                 Output Shape              Param #   \n",
      "=================================================================\n",
      "flatten (Flatten)            (None, 784)               0         \n",
      "_________________________________________________________________\n",
      "dense (Dense)                (None, 300)               235500    \n",
      "_________________________________________________________________\n",
      "dense_1 (Dense)              (None, 100)               30100     \n",
      "_________________________________________________________________\n",
      "dense_2 (Dense)              (None, 10)                1010      \n",
      "=================================================================\n",
      "Total params: 266,610\n",
      "Trainable params: 266,610\n",
      "Non-trainable params: 0\n",
      "_________________________________________________________________\n"
     ]
    }
   ],
   "source": [
    "model.summary()"
   ]
  },
  {
   "cell_type": "code",
   "execution_count": 31,
   "metadata": {},
   "outputs": [
    {
     "data": {
      "text/plain": [
       "'dense'"
      ]
     },
     "execution_count": 31,
     "metadata": {},
     "output_type": "execute_result"
    }
   ],
   "source": [
    "hidden1 = model.layers[1]\n",
    "hidden1.name"
   ]
  },
  {
   "cell_type": "code",
   "execution_count": 32,
   "metadata": {},
   "outputs": [
    {
     "data": {
      "text/plain": [
       "True"
      ]
     },
     "execution_count": 32,
     "metadata": {},
     "output_type": "execute_result"
    }
   ],
   "source": [
    "model.get_layer(hidden1.name) is hidden1"
   ]
  },
  {
   "cell_type": "code",
   "execution_count": 33,
   "metadata": {},
   "outputs": [],
   "source": [
    "weights, biases = hidden1.get_weights()"
   ]
  },
  {
   "cell_type": "code",
   "execution_count": 34,
   "metadata": {},
   "outputs": [
    {
     "data": {
      "text/plain": [
       "array([[-0.0427855 , -0.06972518,  0.04574393, ..., -0.00818197,\n",
       "         0.03634868, -0.05755614],\n",
       "       [-0.00960732, -0.02690683,  0.04462745, ..., -0.02583763,\n",
       "         0.04891241, -0.00643145],\n",
       "       [ 0.04043874, -0.01121131,  0.03473529, ...,  0.02598693,\n",
       "         0.02433146,  0.01420926],\n",
       "       ...,\n",
       "       [-0.01275923, -0.05064012,  0.03303439, ..., -0.0003582 ,\n",
       "        -0.03325404, -0.05356853],\n",
       "       [-0.06559291,  0.02658858, -0.06191513, ...,  0.03885426,\n",
       "         0.00651082,  0.0040051 ],\n",
       "       [-0.04163707,  0.02019575, -0.02706303, ...,  0.03706825,\n",
       "         0.02010994,  0.05531731]], dtype=float32)"
      ]
     },
     "execution_count": 34,
     "metadata": {},
     "output_type": "execute_result"
    }
   ],
   "source": [
    "weights"
   ]
  },
  {
   "cell_type": "code",
   "execution_count": 35,
   "metadata": {},
   "outputs": [
    {
     "data": {
      "text/plain": [
       "(784, 300)"
      ]
     },
     "execution_count": 35,
     "metadata": {},
     "output_type": "execute_result"
    }
   ],
   "source": [
    "weights.shape"
   ]
  },
  {
   "cell_type": "code",
   "execution_count": 36,
   "metadata": {},
   "outputs": [
    {
     "data": {
      "text/plain": [
       "array([0., 0., 0., 0., 0., 0., 0., 0., 0., 0., 0., 0., 0., 0., 0., 0., 0.,\n",
       "       0., 0., 0., 0., 0., 0., 0., 0., 0., 0., 0., 0., 0., 0., 0., 0., 0.,\n",
       "       0., 0., 0., 0., 0., 0., 0., 0., 0., 0., 0., 0., 0., 0., 0., 0., 0.,\n",
       "       0., 0., 0., 0., 0., 0., 0., 0., 0., 0., 0., 0., 0., 0., 0., 0., 0.,\n",
       "       0., 0., 0., 0., 0., 0., 0., 0., 0., 0., 0., 0., 0., 0., 0., 0., 0.,\n",
       "       0., 0., 0., 0., 0., 0., 0., 0., 0., 0., 0., 0., 0., 0., 0., 0., 0.,\n",
       "       0., 0., 0., 0., 0., 0., 0., 0., 0., 0., 0., 0., 0., 0., 0., 0., 0.,\n",
       "       0., 0., 0., 0., 0., 0., 0., 0., 0., 0., 0., 0., 0., 0., 0., 0., 0.,\n",
       "       0., 0., 0., 0., 0., 0., 0., 0., 0., 0., 0., 0., 0., 0., 0., 0., 0.,\n",
       "       0., 0., 0., 0., 0., 0., 0., 0., 0., 0., 0., 0., 0., 0., 0., 0., 0.,\n",
       "       0., 0., 0., 0., 0., 0., 0., 0., 0., 0., 0., 0., 0., 0., 0., 0., 0.,\n",
       "       0., 0., 0., 0., 0., 0., 0., 0., 0., 0., 0., 0., 0., 0., 0., 0., 0.,\n",
       "       0., 0., 0., 0., 0., 0., 0., 0., 0., 0., 0., 0., 0., 0., 0., 0., 0.,\n",
       "       0., 0., 0., 0., 0., 0., 0., 0., 0., 0., 0., 0., 0., 0., 0., 0., 0.,\n",
       "       0., 0., 0., 0., 0., 0., 0., 0., 0., 0., 0., 0., 0., 0., 0., 0., 0.,\n",
       "       0., 0., 0., 0., 0., 0., 0., 0., 0., 0., 0., 0., 0., 0., 0., 0., 0.,\n",
       "       0., 0., 0., 0., 0., 0., 0., 0., 0., 0., 0., 0., 0., 0., 0., 0., 0.,\n",
       "       0., 0., 0., 0., 0., 0., 0., 0., 0., 0., 0.], dtype=float32)"
      ]
     },
     "execution_count": 36,
     "metadata": {},
     "output_type": "execute_result"
    }
   ],
   "source": [
    "biases"
   ]
  },
  {
   "cell_type": "code",
   "execution_count": 37,
   "metadata": {},
   "outputs": [
    {
     "data": {
      "text/plain": [
       "(300,)"
      ]
     },
     "execution_count": 37,
     "metadata": {},
     "output_type": "execute_result"
    }
   ],
   "source": [
    "biases.shape"
   ]
  },
  {
   "cell_type": "markdown",
   "metadata": {},
   "source": [
    "Here you can chose the loss function, the optimizer, the performance metric, etc. "
   ]
  },
  {
   "cell_type": "code",
   "execution_count": 38,
   "metadata": {},
   "outputs": [],
   "source": [
    "model.compile(loss=\"sparse_categorical_crossentropy\",\n",
    "              optimizer=\"sgd\",\n",
    "              metrics=[\"accuracy\"])"
   ]
  },
  {
   "cell_type": "markdown",
   "metadata": {},
   "source": [
    "Here you can chose how many epochs you need and the batch size."
   ]
  },
  {
   "cell_type": "code",
   "execution_count": 39,
   "metadata": {},
   "outputs": [
    {
     "name": "stdout",
     "output_type": "stream",
     "text": [
      "Epoch 1/30\n",
      "1719/1719 [==============================] - 5s 3ms/step - loss: 0.7285 - accuracy: 0.7614 - val_loss: 0.5369 - val_accuracy: 0.8104\n",
      "Epoch 2/30\n",
      "1719/1719 [==============================] - 4s 3ms/step - loss: 0.4893 - accuracy: 0.8289 - val_loss: 0.4291 - val_accuracy: 0.8564\n",
      "Epoch 3/30\n",
      "1719/1719 [==============================] - 4s 2ms/step - loss: 0.4456 - accuracy: 0.8443 - val_loss: 0.4366 - val_accuracy: 0.8526\n",
      "Epoch 4/30\n",
      "1719/1719 [==============================] - 4s 2ms/step - loss: 0.4178 - accuracy: 0.8527 - val_loss: 0.3911 - val_accuracy: 0.8652\n",
      "Epoch 5/30\n",
      "1719/1719 [==============================] - 4s 3ms/step - loss: 0.3982 - accuracy: 0.8604 - val_loss: 0.3953 - val_accuracy: 0.8632\n",
      "Epoch 6/30\n",
      "1719/1719 [==============================] - 4s 2ms/step - loss: 0.3819 - accuracy: 0.8651 - val_loss: 0.3731 - val_accuracy: 0.8678\n",
      "Epoch 7/30\n",
      "1719/1719 [==============================] - 4s 2ms/step - loss: 0.3678 - accuracy: 0.8692 - val_loss: 0.4020 - val_accuracy: 0.8552\n",
      "Epoch 8/30\n",
      "1719/1719 [==============================] - 4s 2ms/step - loss: 0.3554 - accuracy: 0.8746 - val_loss: 0.3471 - val_accuracy: 0.8822\n",
      "Epoch 9/30\n",
      "1719/1719 [==============================] - 4s 2ms/step - loss: 0.3453 - accuracy: 0.8777 - val_loss: 0.3731 - val_accuracy: 0.8716\n",
      "Epoch 10/30\n",
      "1719/1719 [==============================] - 4s 2ms/step - loss: 0.3360 - accuracy: 0.8799 - val_loss: 0.3492 - val_accuracy: 0.8826\n",
      "Epoch 11/30\n",
      "1719/1719 [==============================] - 4s 2ms/step - loss: 0.3263 - accuracy: 0.8835 - val_loss: 0.3338 - val_accuracy: 0.8844\n",
      "Epoch 12/30\n",
      "1719/1719 [==============================] - 4s 2ms/step - loss: 0.3182 - accuracy: 0.8863 - val_loss: 0.3322 - val_accuracy: 0.8824\n",
      "Epoch 13/30\n",
      "1719/1719 [==============================] - 4s 2ms/step - loss: 0.3118 - accuracy: 0.8882 - val_loss: 0.3412 - val_accuracy: 0.8798\n",
      "Epoch 14/30\n",
      "1719/1719 [==============================] - 4s 2ms/step - loss: 0.3048 - accuracy: 0.8913 - val_loss: 0.3316 - val_accuracy: 0.8834\n",
      "Epoch 15/30\n",
      "1719/1719 [==============================] - 4s 2ms/step - loss: 0.2972 - accuracy: 0.8935 - val_loss: 0.3137 - val_accuracy: 0.8904\n",
      "Epoch 16/30\n",
      "1719/1719 [==============================] - 4s 2ms/step - loss: 0.2907 - accuracy: 0.8958 - val_loss: 0.3256 - val_accuracy: 0.8814\n",
      "Epoch 17/30\n",
      "1719/1719 [==============================] - 5s 3ms/step - loss: 0.2860 - accuracy: 0.8976 - val_loss: 0.3153 - val_accuracy: 0.8876\n",
      "Epoch 18/30\n",
      "1719/1719 [==============================] - 4s 2ms/step - loss: 0.2798 - accuracy: 0.8998 - val_loss: 0.3108 - val_accuracy: 0.8910\n",
      "Epoch 19/30\n",
      "1719/1719 [==============================] - 4s 2ms/step - loss: 0.2751 - accuracy: 0.8995 - val_loss: 0.3095 - val_accuracy: 0.8878\n",
      "Epoch 20/30\n",
      "1719/1719 [==============================] - 5s 3ms/step - loss: 0.2694 - accuracy: 0.9025 - val_loss: 0.2998 - val_accuracy: 0.8912\n",
      "Epoch 21/30\n",
      "1719/1719 [==============================] - 4s 2ms/step - loss: 0.2658 - accuracy: 0.9047 - val_loss: 0.3233 - val_accuracy: 0.8860\n",
      "Epoch 22/30\n",
      "1719/1719 [==============================] - 4s 2ms/step - loss: 0.2598 - accuracy: 0.9055 - val_loss: 0.3119 - val_accuracy: 0.8884\n",
      "Epoch 23/30\n",
      "1719/1719 [==============================] - 4s 2ms/step - loss: 0.2556 - accuracy: 0.9077 - val_loss: 0.3122 - val_accuracy: 0.8880\n",
      "Epoch 24/30\n",
      "1719/1719 [==============================] - 4s 3ms/step - loss: 0.2514 - accuracy: 0.9099 - val_loss: 0.3051 - val_accuracy: 0.8908\n",
      "Epoch 25/30\n",
      "1719/1719 [==============================] - 4s 2ms/step - loss: 0.2473 - accuracy: 0.9107 - val_loss: 0.2941 - val_accuracy: 0.8934\n",
      "Epoch 26/30\n",
      "1719/1719 [==============================] - 4s 2ms/step - loss: 0.2433 - accuracy: 0.9114 - val_loss: 0.3109 - val_accuracy: 0.8888\n",
      "Epoch 27/30\n",
      "1719/1719 [==============================] - 4s 2ms/step - loss: 0.2391 - accuracy: 0.9139 - val_loss: 0.2916 - val_accuracy: 0.8928\n",
      "Epoch 28/30\n",
      "1719/1719 [==============================] - 4s 3ms/step - loss: 0.2352 - accuracy: 0.9141 - val_loss: 0.2980 - val_accuracy: 0.8922\n",
      "Epoch 29/30\n",
      "1719/1719 [==============================] - 4s 2ms/step - loss: 0.2301 - accuracy: 0.9182 - val_loss: 0.2900 - val_accuracy: 0.8912\n",
      "Epoch 30/30\n",
      "1719/1719 [==============================] - 4s 2ms/step - loss: 0.2262 - accuracy: 0.9184 - val_loss: 0.2892 - val_accuracy: 0.8920\n"
     ]
    }
   ],
   "source": [
    "history = model.fit(X_train, y_train, batch_size=32, epochs=30,\n",
    "                    validation_data=(X_valid, y_valid))"
   ]
  },
  {
   "cell_type": "code",
   "execution_count": 40,
   "metadata": {},
   "outputs": [
    {
     "data": {
      "text/plain": [
       "{'verbose': 1, 'epochs': 30, 'steps': 1719}"
      ]
     },
     "execution_count": 40,
     "metadata": {},
     "output_type": "execute_result"
    }
   ],
   "source": [
    "history.params"
   ]
  },
  {
   "cell_type": "code",
   "execution_count": 41,
   "metadata": {},
   "outputs": [
    {
     "name": "stdout",
     "output_type": "stream",
     "text": [
      "[0, 1, 2, 3, 4, 5, 6, 7, 8, 9, 10, 11, 12, 13, 14, 15, 16, 17, 18, 19, 20, 21, 22, 23, 24, 25, 26, 27, 28, 29]\n"
     ]
    }
   ],
   "source": [
    "print(history.epoch)"
   ]
  },
  {
   "cell_type": "code",
   "execution_count": 42,
   "metadata": {},
   "outputs": [
    {
     "data": {
      "text/plain": [
       "dict_keys(['loss', 'accuracy', 'val_loss', 'val_accuracy'])"
      ]
     },
     "execution_count": 42,
     "metadata": {},
     "output_type": "execute_result"
    }
   ],
   "source": [
    "history.history.keys()"
   ]
  },
  {
   "cell_type": "markdown",
   "metadata": {},
   "source": [
    "# Plot learning Curves"
   ]
  },
  {
   "cell_type": "code",
   "execution_count": 43,
   "metadata": {},
   "outputs": [
    {
     "data": {
      "image/png": "[encoded data removed]",
      "text/plain": [
       "<Figure size 576x360 with 1 Axes>"
      ]
     },
     "metadata": {
      "needs_background": "light"
     },
     "output_type": "display_data"
    }
   ],
   "source": [
    "import pandas as pd\n",
    "\n",
    "pd.DataFrame(history.history).plot(figsize=(8, 5),title=('sgd'))\n",
    "plt.grid(True)\n",
    "plt.gca().set_ylim(0, 1)\n",
    "plt.show()"
   ]
  },
  {
   "cell_type": "code",
   "execution_count": 44,
   "metadata": {},
   "outputs": [
    {
     "name": "stdout",
     "output_type": "stream",
     "text": [
      "313/313 [==============================] - 1s 2ms/step - loss: 0.3294 - accuracy: 0.8828\n"
     ]
    }
   ],
   "source": [
    "osgd=model.evaluate(X_test, y_test)"
   ]
  },
  {
   "cell_type": "code",
   "execution_count": 45,
   "metadata": {},
   "outputs": [
    {
     "data": {
      "text/plain": [
       "[0.32935845851898193, 0.8827999830245972]"
      ]
     },
     "execution_count": 45,
     "metadata": {},
     "output_type": "execute_result"
    }
   ],
   "source": [
    "osgd"
   ]
  },
  {
   "cell_type": "code",
   "execution_count": 46,
   "metadata": {},
   "outputs": [
    {
     "data": {
      "text/plain": [
       "0.32935845851898193"
      ]
     },
     "execution_count": 46,
     "metadata": {},
     "output_type": "execute_result"
    }
   ],
   "source": [
    "osgd[0]"
   ]
  },
  {
   "cell_type": "code",
   "execution_count": 47,
   "metadata": {},
   "outputs": [
    {
     "data": {
      "text/plain": [
       "0.8827999830245972"
      ]
     },
     "execution_count": 47,
     "metadata": {},
     "output_type": "execute_result"
    }
   ],
   "source": [
    "osgd[1]"
   ]
  },
  {
   "cell_type": "code",
   "execution_count": 48,
   "metadata": {},
   "outputs": [
    {
     "data": {
      "text/plain": [
       "array([[0.0000e+00, 1.0000e-05, 4.0000e-05, 1.0000e-05, 1.0000e-05,\n",
       "        2.1700e-03, 0.0000e+00, 1.4600e-02, 2.1000e-04, 9.8295e-01],\n",
       "       [2.0000e-05, 0.0000e+00, 9.9901e-01, 0.0000e+00, 8.1000e-04,\n",
       "        0.0000e+00, 1.6000e-04, 0.0000e+00, 0.0000e+00, 0.0000e+00],\n",
       "       [1.0000e-05, 9.9999e-01, 0.0000e+00, 0.0000e+00, 0.0000e+00,\n",
       "        0.0000e+00, 0.0000e+00, 0.0000e+00, 0.0000e+00, 0.0000e+00]],\n",
       "      dtype=float32)"
      ]
     },
     "execution_count": 48,
     "metadata": {},
     "output_type": "execute_result"
    }
   ],
   "source": [
    "X_new = X_test[:3]\n",
    "y_proba = model.predict(X_new)\n",
    "y_proba.round(5)"
   ]
  },
  {
   "cell_type": "code",
   "execution_count": 49,
   "metadata": {},
   "outputs": [
    {
     "name": "stdout",
     "output_type": "stream",
     "text": [
      "WARNING:tensorflow:From <ipython-input-49-81ace37e545f>:1: Sequential.predict_classes (from tensorflow.python.keras.engine.sequential) is deprecated and will be removed after 2021-01-01.\n",
      "Instructions for updating:\n",
      "Please use instead:* `np.argmax(model.predict(x), axis=-1)`,   if your model does multi-class classification   (e.g. if it uses a `softmax` last-layer activation).* `(model.predict(x) > 0.5).astype(\"int32\")`,   if your model does binary classification   (e.g. if it uses a `sigmoid` last-layer activation).\n"
     ]
    },
    {
     "data": {
      "text/plain": [
       "array([9, 2, 1], dtype=int64)"
      ]
     },
     "execution_count": 49,
     "metadata": {},
     "output_type": "execute_result"
    }
   ],
   "source": [
    "y_pred = model.predict_classes(X_new)\n",
    "y_pred"
   ]
  },
  {
   "cell_type": "code",
   "execution_count": 50,
   "metadata": {},
   "outputs": [
    {
     "data": {
      "text/plain": [
       "array(['Ankle boot', 'Pullover', 'Trouser'], dtype='<U11')"
      ]
     },
     "execution_count": 50,
     "metadata": {},
     "output_type": "execute_result"
    }
   ],
   "source": [
    "np.array(class_names)[y_pred]"
   ]
  },
  {
   "cell_type": "code",
   "execution_count": 51,
   "metadata": {},
   "outputs": [
    {
     "data": {
      "text/plain": [
       "array([9, 2, 1], dtype=uint8)"
      ]
     },
     "execution_count": 51,
     "metadata": {},
     "output_type": "execute_result"
    }
   ],
   "source": [
    "y_new = y_test[:3]\n",
    "y_new"
   ]
  },
  {
   "cell_type": "code",
   "execution_count": 52,
   "metadata": {},
   "outputs": [
    {
     "data": {
      "image/png": "[encoded data removed]",
      "text/plain": [
       "<Figure size 518.4x172.8 with 3 Axes>"
      ]
     },
     "metadata": {
      "needs_background": "light"
     },
     "output_type": "display_data"
    }
   ],
   "source": [
    "plt.figure(figsize=(7.2, 2.4))\n",
    "for index, image in enumerate(X_new):\n",
    "    plt.subplot(1, 3, index + 1)\n",
    "    plt.imshow(image, cmap=\"binary\", interpolation=\"nearest\")\n",
    "    plt.axis('off')\n",
    "    plt.title(class_names[y_test[index]], fontsize=12)\n",
    "plt.subplots_adjust(wspace=0.2, hspace=0.5)\n",
    "plt.show()"
   ]
  },
  {
   "cell_type": "markdown",
   "metadata": {},
   "source": [
    "# EXERCICE"
   ]
  },
  {
   "cell_type": "markdown",
   "metadata": {},
   "source": [
    "# 1) Plot Learning curves when using different optimizers\n",
    "\n"
   ]
  },
  {
   "cell_type": "markdown",
   "metadata": {},
   "source": [
    "https://keras.io/api/optimizers/"
   ]
  },
  {
   "cell_type": "markdown",
   "metadata": {},
   "source": [
    "a-optimizers:RMSprop"
   ]
  },
  {
   "cell_type": "code",
   "execution_count": 53,
   "metadata": {},
   "outputs": [],
   "source": [
    "model.compile(loss=\"sparse_categorical_crossentropy\",\n",
    "              optimizer=\"RMSprop\",\n",
    "              metrics=[\"accuracy\"])"
   ]
  },
  {
   "cell_type": "code",
   "execution_count": 54,
   "metadata": {},
   "outputs": [
    {
     "name": "stdout",
     "output_type": "stream",
     "text": [
      "Epoch 1/30\n",
      "1719/1719 [==============================] - 7s 4ms/step - loss: 0.4276 - accuracy: 0.8467 - val_loss: 0.4138 - val_accuracy: 0.8552\n",
      "Epoch 2/30\n",
      "1719/1719 [==============================] - 6s 4ms/step - loss: 0.3719 - accuracy: 0.8681 - val_loss: 0.3633 - val_accuracy: 0.8766\n",
      "Epoch 3/30\n",
      "1719/1719 [==============================] - 6s 4ms/step - loss: 0.3557 - accuracy: 0.8763 - val_loss: 0.4066 - val_accuracy: 0.8692\n",
      "Epoch 4/30\n",
      "1719/1719 [==============================] - 6s 4ms/step - loss: 0.3460 - accuracy: 0.8807 - val_loss: 0.4527 - val_accuracy: 0.8532\n",
      "Epoch 5/30\n",
      "1719/1719 [==============================] - 6s 4ms/step - loss: 0.3357 - accuracy: 0.8852 - val_loss: 0.3714 - val_accuracy: 0.8816\n",
      "Epoch 6/30\n",
      "1719/1719 [==============================] - 6s 4ms/step - loss: 0.3316 - accuracy: 0.8890 - val_loss: 0.4283 - val_accuracy: 0.8720\n",
      "Epoch 7/30\n",
      "1719/1719 [==============================] - 6s 4ms/step - loss: 0.3236 - accuracy: 0.8905 - val_loss: 0.4680 - val_accuracy: 0.8746\n",
      "Epoch 8/30\n",
      "1719/1719 [==============================] - 7s 4ms/step - loss: 0.3200 - accuracy: 0.8941 - val_loss: 0.5401 - val_accuracy: 0.8722\n",
      "Epoch 9/30\n",
      "1719/1719 [==============================] - 7s 4ms/step - loss: 0.3117 - accuracy: 0.8971 - val_loss: 0.5406 - val_accuracy: 0.8682\n",
      "Epoch 10/30\n",
      "1719/1719 [==============================] - 9s 5ms/step - loss: 0.3071 - accuracy: 0.8967 - val_loss: 0.4699 - val_accuracy: 0.8868\n",
      "Epoch 11/30\n",
      "1719/1719 [==============================] - 8s 5ms/step - loss: 0.3027 - accuracy: 0.9009 - val_loss: 0.5237 - val_accuracy: 0.8796\n",
      "Epoch 12/30\n",
      "1719/1719 [==============================] - 8s 5ms/step - loss: 0.2992 - accuracy: 0.9024 - val_loss: 0.4795 - val_accuracy: 0.8828\n",
      "Epoch 13/30\n",
      "1719/1719 [==============================] - 8s 5ms/step - loss: 0.2950 - accuracy: 0.9015 - val_loss: 0.5139 - val_accuracy: 0.8836\n",
      "Epoch 14/30\n",
      "1719/1719 [==============================] - 6s 4ms/step - loss: 0.2959 - accuracy: 0.9038 - val_loss: 0.5395 - val_accuracy: 0.8854\n",
      "Epoch 15/30\n",
      "1719/1719 [==============================] - 6s 4ms/step - loss: 0.2867 - accuracy: 0.9053 - val_loss: 0.5430 - val_accuracy: 0.8864\n",
      "Epoch 16/30\n",
      "1719/1719 [==============================] - 6s 4ms/step - loss: 0.2898 - accuracy: 0.9063 - val_loss: 0.6280 - val_accuracy: 0.8880\n",
      "Epoch 17/30\n",
      "1719/1719 [==============================] - 7s 4ms/step - loss: 0.2882 - accuracy: 0.9075 - val_loss: 0.6086 - val_accuracy: 0.8858\n",
      "Epoch 18/30\n",
      "1719/1719 [==============================] - 6s 4ms/step - loss: 0.2835 - accuracy: 0.9076 - val_loss: 0.5881 - val_accuracy: 0.8930\n",
      "Epoch 19/30\n",
      "1719/1719 [==============================] - 7s 4ms/step - loss: 0.2836 - accuracy: 0.9102 - val_loss: 0.8384 - val_accuracy: 0.8722\n",
      "Epoch 20/30\n",
      "1719/1719 [==============================] - 6s 4ms/step - loss: 0.2767 - accuracy: 0.9109 - val_loss: 0.6476 - val_accuracy: 0.8828\n",
      "Epoch 21/30\n",
      "1719/1719 [==============================] - 6s 4ms/step - loss: 0.2746 - accuracy: 0.9113 - val_loss: 0.6584 - val_accuracy: 0.8870\n",
      "Epoch 22/30\n",
      "1719/1719 [==============================] - 7s 4ms/step - loss: 0.2696 - accuracy: 0.9123 - val_loss: 0.7506 - val_accuracy: 0.8848\n",
      "Epoch 23/30\n",
      "1719/1719 [==============================] - 6s 4ms/step - loss: 0.2740 - accuracy: 0.9138 - val_loss: 0.7329 - val_accuracy: 0.8742\n",
      "Epoch 24/30\n",
      "1719/1719 [==============================] - 6s 4ms/step - loss: 0.2697 - accuracy: 0.9146 - val_loss: 0.7680 - val_accuracy: 0.8860\n",
      "Epoch 25/30\n",
      "1719/1719 [==============================] - 6s 4ms/step - loss: 0.2715 - accuracy: 0.9153 - val_loss: 0.8068 - val_accuracy: 0.8862\n",
      "Epoch 26/30\n",
      "1719/1719 [==============================] - 6s 4ms/step - loss: 0.2674 - accuracy: 0.9169 - val_loss: 0.7555 - val_accuracy: 0.8854\n",
      "Epoch 27/30\n",
      "1719/1719 [==============================] - 7s 4ms/step - loss: 0.2698 - accuracy: 0.9171 - val_loss: 0.8547 - val_accuracy: 0.8882\n",
      "Epoch 28/30\n",
      "1719/1719 [==============================] - 6s 4ms/step - loss: 0.2622 - accuracy: 0.9181 - val_loss: 0.8578 - val_accuracy: 0.8920\n",
      "Epoch 29/30\n",
      "1719/1719 [==============================] - 7s 4ms/step - loss: 0.2526 - accuracy: 0.9189 - val_loss: 0.8836 - val_accuracy: 0.8846\n",
      "Epoch 30/30\n",
      "1719/1719 [==============================] - 7s 4ms/step - loss: 0.2542 - accuracy: 0.9210 - val_loss: 0.9384 - val_accuracy: 0.8826\n"
     ]
    }
   ],
   "source": [
    "history1 = model.fit(X_train, y_train, batch_size=32, epochs=30,\n",
    "                    validation_data=(X_valid, y_valid))"
   ]
  },
  {
   "cell_type": "code",
   "execution_count": 55,
   "metadata": {},
   "outputs": [
    {
     "data": {
      "text/plain": [
       "{'verbose': 1, 'epochs': 30, 'steps': 1719}"
      ]
     },
     "execution_count": 55,
     "metadata": {},
     "output_type": "execute_result"
    }
   ],
   "source": [
    "history1.params"
   ]
  },
  {
   "cell_type": "code",
   "execution_count": 56,
   "metadata": {},
   "outputs": [
    {
     "data": {
      "image/png": "[encoded data removed]",
      "text/plain": [
       "<Figure size 576x360 with 1 Axes>"
      ]
     },
     "metadata": {
      "needs_background": "light"
     },
     "output_type": "display_data"
    }
   ],
   "source": [
    "pd.DataFrame(history1.history).plot(figsize=(8, 5),title=('RMSprop'))\n",
    "plt.grid(True)\n",
    "plt.gca().set_ylim(0, 1)\n",
    "plt.show()"
   ]
  },
  {
   "cell_type": "code",
   "execution_count": 57,
   "metadata": {},
   "outputs": [
    {
     "name": "stdout",
     "output_type": "stream",
     "text": [
      "313/313 [==============================] - 0s 2ms/step - loss: 0.8423 - accuracy: 0.8737\n"
     ]
    }
   ],
   "source": [
    "RMSprop = model.evaluate(X_test, y_test)"
   ]
  },
  {
   "cell_type": "code",
   "execution_count": 58,
   "metadata": {},
   "outputs": [
    {
     "data": {
      "text/plain": [
       "[0.8423382639884949, 0.8737000226974487]"
      ]
     },
     "execution_count": 58,
     "metadata": {},
     "output_type": "execute_result"
    }
   ],
   "source": [
    "RMSprop"
   ]
  },
  {
   "cell_type": "markdown",
   "metadata": {},
   "source": [
    "b-optimizers:Nadam"
   ]
  },
  {
   "cell_type": "code",
   "execution_count": 59,
   "metadata": {},
   "outputs": [],
   "source": [
    "model.compile(loss=\"sparse_categorical_crossentropy\",\n",
    "              optimizer=\"Nadam\",\n",
    "              metrics=[\"accuracy\"])"
   ]
  },
  {
   "cell_type": "code",
   "execution_count": 60,
   "metadata": {
    "scrolled": true
   },
   "outputs": [
    {
     "name": "stdout",
     "output_type": "stream",
     "text": [
      "Epoch 1/30\n",
      "1719/1719 [==============================] - 9s 5ms/step - loss: 0.2797 - accuracy: 0.9134 - val_loss: 0.5751 - val_accuracy: 0.8864\n",
      "Epoch 2/30\n",
      "1719/1719 [==============================] - 8s 5ms/step - loss: 0.2402 - accuracy: 0.9187 - val_loss: 0.4844 - val_accuracy: 0.8868\n",
      "Epoch 3/30\n",
      "1719/1719 [==============================] - 9s 5ms/step - loss: 0.2301 - accuracy: 0.9197 - val_loss: 0.5351 - val_accuracy: 0.8818\n",
      "Epoch 4/30\n",
      "1719/1719 [==============================] - 8s 5ms/step - loss: 0.2181 - accuracy: 0.9240 - val_loss: 0.4209 - val_accuracy: 0.8956\n",
      "Epoch 5/30\n",
      "1719/1719 [==============================] - 9s 5ms/step - loss: 0.2135 - accuracy: 0.9245 - val_loss: 0.4454 - val_accuracy: 0.8872\n",
      "Epoch 6/30\n",
      "1719/1719 [==============================] - 9s 5ms/step - loss: 0.2096 - accuracy: 0.9263 - val_loss: 0.4245 - val_accuracy: 0.8920\n",
      "Epoch 7/30\n",
      "1719/1719 [==============================] - 9s 5ms/step - loss: 0.2072 - accuracy: 0.9285 - val_loss: 0.4249 - val_accuracy: 0.8972\n",
      "Epoch 8/30\n",
      "1719/1719 [==============================] - 9s 5ms/step - loss: 0.1941 - accuracy: 0.9304 - val_loss: 0.4276 - val_accuracy: 0.8934\n",
      "Epoch 9/30\n",
      "1719/1719 [==============================] - 9s 5ms/step - loss: 0.1826 - accuracy: 0.9344 - val_loss: 0.4434 - val_accuracy: 0.8896\n",
      "Epoch 10/30\n",
      "1719/1719 [==============================] - 9s 5ms/step - loss: 0.1865 - accuracy: 0.9312 - val_loss: 0.4712 - val_accuracy: 0.8950\n",
      "Epoch 11/30\n",
      "1719/1719 [==============================] - 9s 5ms/step - loss: 0.1802 - accuracy: 0.9340 - val_loss: 0.4252 - val_accuracy: 0.9010\n",
      "Epoch 12/30\n",
      "1719/1719 [==============================] - 9s 5ms/step - loss: 0.1673 - accuracy: 0.9381 - val_loss: 0.5476 - val_accuracy: 0.8824\n",
      "Epoch 13/30\n",
      "1719/1719 [==============================] - 9s 5ms/step - loss: 0.1764 - accuracy: 0.9359 - val_loss: 0.4427 - val_accuracy: 0.8948\n",
      "Epoch 14/30\n",
      "1719/1719 [==============================] - 9s 5ms/step - loss: 0.1655 - accuracy: 0.9389 - val_loss: 0.5034 - val_accuracy: 0.8924\n",
      "Epoch 15/30\n",
      "1719/1719 [==============================] - 9s 5ms/step - loss: 0.1681 - accuracy: 0.9395 - val_loss: 0.4295 - val_accuracy: 0.8974\n",
      "Epoch 16/30\n",
      "1719/1719 [==============================] - 9s 5ms/step - loss: 0.1586 - accuracy: 0.9413 - val_loss: 0.5274 - val_accuracy: 0.8970\n",
      "Epoch 17/30\n",
      "1719/1719 [==============================] - 9s 5ms/step - loss: 0.1521 - accuracy: 0.9431 - val_loss: 0.5054 - val_accuracy: 0.8932\n",
      "Epoch 18/30\n",
      "1719/1719 [==============================] - 9s 5ms/step - loss: 0.1553 - accuracy: 0.9432 - val_loss: 0.5175 - val_accuracy: 0.8958\n",
      "Epoch 19/30\n",
      "1719/1719 [==============================] - 9s 5ms/step - loss: 0.1518 - accuracy: 0.9443 - val_loss: 0.5239 - val_accuracy: 0.8916\n",
      "Epoch 20/30\n",
      "1719/1719 [==============================] - 9s 5ms/step - loss: 0.1473 - accuracy: 0.9461 - val_loss: 0.4842 - val_accuracy: 0.8932\n",
      "Epoch 21/30\n",
      "1719/1719 [==============================] - 9s 5ms/step - loss: 0.1408 - accuracy: 0.9483 - val_loss: 0.5819 - val_accuracy: 0.8892\n",
      "Epoch 22/30\n",
      "1719/1719 [==============================] - 9s 5ms/step - loss: 0.1423 - accuracy: 0.9475 - val_loss: 0.5520 - val_accuracy: 0.8962\n",
      "Epoch 23/30\n",
      "1719/1719 [==============================] - 9s 5ms/step - loss: 0.1423 - accuracy: 0.9485 - val_loss: 0.5323 - val_accuracy: 0.8948\n",
      "Epoch 24/30\n",
      "1719/1719 [==============================] - 9s 5ms/step - loss: 0.1373 - accuracy: 0.9499 - val_loss: 0.6456 - val_accuracy: 0.8886\n",
      "Epoch 25/30\n",
      "1719/1719 [==============================] - 9s 5ms/step - loss: 0.1368 - accuracy: 0.9509 - val_loss: 0.4996 - val_accuracy: 0.8982\n",
      "Epoch 26/30\n",
      "1719/1719 [==============================] - 8s 5ms/step - loss: 0.1270 - accuracy: 0.9521 - val_loss: 0.5542 - val_accuracy: 0.8918\n",
      "Epoch 27/30\n",
      "1719/1719 [==============================] - 9s 5ms/step - loss: 0.1304 - accuracy: 0.9511 - val_loss: 0.6137 - val_accuracy: 0.8916\n",
      "Epoch 28/30\n",
      "1719/1719 [==============================] - 9s 5ms/step - loss: 0.1242 - accuracy: 0.9541 - val_loss: 0.5488 - val_accuracy: 0.8932\n",
      "Epoch 29/30\n",
      "1719/1719 [==============================] - 9s 5ms/step - loss: 0.1275 - accuracy: 0.9528 - val_loss: 0.5240 - val_accuracy: 0.8988\n",
      "Epoch 30/30\n",
      "1719/1719 [==============================] - 9s 5ms/step - loss: 0.1204 - accuracy: 0.9564 - val_loss: 0.5918 - val_accuracy: 0.8958\n"
     ]
    }
   ],
   "source": [
    "history2 = model.fit(X_train, y_train, batch_size=32, epochs=30,\n",
    "                    validation_data=(X_valid, y_valid))"
   ]
  },
  {
   "cell_type": "code",
   "execution_count": 61,
   "metadata": {},
   "outputs": [
    {
     "data": {
      "text/plain": [
       "{'verbose': 1, 'epochs': 30, 'steps': 1719}"
      ]
     },
     "execution_count": 61,
     "metadata": {},
     "output_type": "execute_result"
    }
   ],
   "source": [
    "history2.params"
   ]
  },
  {
   "cell_type": "code",
   "execution_count": 62,
   "metadata": {},
   "outputs": [
    {
     "data": {
      "image/png": "[encoded data removed]",
      "text/plain": [
       "<Figure size 576x360 with 1 Axes>"
      ]
     },
     "metadata": {
      "needs_background": "light"
     },
     "output_type": "display_data"
    }
   ],
   "source": [
    "pd.DataFrame(history2.history).plot(figsize=(8, 5),title=('Nadam'))\n",
    "plt.grid(True)\n",
    "plt.gca().set_ylim(0, 1)\n",
    "plt.show()"
   ]
  },
  {
   "cell_type": "code",
   "execution_count": 63,
   "metadata": {},
   "outputs": [
    {
     "name": "stdout",
     "output_type": "stream",
     "text": [
      "313/313 [==============================] - 1s 2ms/step - loss: 0.5938 - accuracy: 0.8927\n"
     ]
    }
   ],
   "source": [
    "Nadam = model.evaluate(X_test, y_test)"
   ]
  },
  {
   "cell_type": "code",
   "execution_count": 64,
   "metadata": {},
   "outputs": [
    {
     "data": {
      "text/plain": [
       "[0.5938175916671753, 0.8927000164985657]"
      ]
     },
     "execution_count": 64,
     "metadata": {},
     "output_type": "execute_result"
    }
   ],
   "source": [
    "Nadam"
   ]
  },
  {
   "cell_type": "code",
   "execution_count": 65,
   "metadata": {},
   "outputs": [
    {
     "data": {
      "image/png": "[encoded data removed]",
      "text/plain": [
       "<Figure size 576x360 with 1 Axes>"
      ]
     },
     "metadata": {
      "needs_background": "light"
     },
     "output_type": "display_data"
    },
    {
     "data": {
      "image/png": "[encoded data removed]",
      "text/plain": [
       "<Figure size 576x360 with 1 Axes>"
      ]
     },
     "metadata": {
      "needs_background": "light"
     },
     "output_type": "display_data"
    },
    {
     "data": {
      "image/png": "[encoded data removed]",
      "text/plain": [
       "<Figure size 576x360 with 1 Axes>"
      ]
     },
     "metadata": {
      "needs_background": "light"
     },
     "output_type": "display_data"
    }
   ],
   "source": [
    "pd.DataFrame(history.history).plot(figsize=(8, 5),title=('sgd'))\n",
    "pd.DataFrame(history1.history).plot(figsize=(8, 5),title=('RMSprop'))\n",
    "pd.DataFrame(history2.history).plot(figsize=(8, 5),title=('Nadam'))\n",
    "plt.grid(True)\n",
    "plt.gca().set_ylim(0, 1)\n",
    "plt.show()"
   ]
  },
  {
   "cell_type": "markdown",
   "metadata": {},
   "source": [
    "2) Plot Learning curves when using different batch size"
   ]
  },
  {
   "cell_type": "markdown",
   "metadata": {},
   "source": [
    "a-stochastic mode: where the batch size is equal to one. Therefore the gradient and the neural network parameters are updated after each sample.\n",
    "\n",
    "batch size = 1"
   ]
  },
  {
   "cell_type": "code",
   "execution_count": 66,
   "metadata": {},
   "outputs": [],
   "source": [
    "model.compile(loss=\"sparse_categorical_crossentropy\",\n",
    "              optimizer=\"sgd\",\n",
    "              metrics=[\"accuracy\"])"
   ]
  },
  {
   "cell_type": "code",
   "execution_count": 67,
   "metadata": {},
   "outputs": [
    {
     "name": "stdout",
     "output_type": "stream",
     "text": [
      "Epoch 1/30\n",
      "55000/55000 [==============================] - 102s 2ms/step - loss: 0.8702 - accuracy: 0.7147 - val_loss: 0.7154 - val_accuracy: 0.8076\n",
      "Epoch 2/30\n",
      "55000/55000 [==============================] - 100s 2ms/step - loss: 0.4122 - accuracy: 0.8631 - val_loss: 0.7341 - val_accuracy: 0.7826\n",
      "Epoch 3/30\n",
      "55000/55000 [==============================] - 94s 2ms/step - loss: 0.3257 - accuracy: 0.8889 - val_loss: 0.6215 - val_accuracy: 0.8730\n",
      "Epoch 4/30\n",
      "55000/55000 [==============================] - 94s 2ms/step - loss: 0.2872 - accuracy: 0.9007 - val_loss: 0.6153 - val_accuracy: 0.8484\n",
      "Epoch 5/30\n",
      "55000/55000 [==============================] - 93s 2ms/step - loss: 0.2683 - accuracy: 0.9093 - val_loss: 0.5361 - val_accuracy: 0.8758\n",
      "Epoch 6/30\n",
      "55000/55000 [==============================] - 94s 2ms/step - loss: 0.2434 - accuracy: 0.9158 - val_loss: 0.5396 - val_accuracy: 0.8922\n",
      "Epoch 7/30\n",
      "55000/55000 [==============================] - 93s 2ms/step - loss: 0.2185 - accuracy: 0.9227 - val_loss: 0.5847 - val_accuracy: 0.8898\n",
      "Epoch 8/30\n",
      "55000/55000 [==============================] - 93s 2ms/step - loss: 0.2541 - accuracy: 0.9137 - val_loss: 0.5206 - val_accuracy: 0.8884\n",
      "Epoch 9/30\n",
      "55000/55000 [==============================] - 93s 2ms/step - loss: 0.2081 - accuracy: 0.9274 - val_loss: 0.6228 - val_accuracy: 0.8640\n",
      "Epoch 10/30\n",
      "55000/55000 [==============================] - 93s 2ms/step - loss: 0.1943 - accuracy: 0.9315 - val_loss: 0.5747 - val_accuracy: 0.8818\n",
      "Epoch 11/30\n",
      "55000/55000 [==============================] - 94s 2ms/step - loss: 0.1948 - accuracy: 0.9307 - val_loss: 0.5927 - val_accuracy: 0.8744\n",
      "Epoch 12/30\n",
      "55000/55000 [==============================] - 93s 2ms/step - loss: 0.2108 - accuracy: 0.9283 - val_loss: 0.6765 - val_accuracy: 0.8598\n",
      "Epoch 13/30\n",
      "55000/55000 [==============================] - 93s 2ms/step - loss: 0.1906 - accuracy: 0.9322 - val_loss: 0.6281 - val_accuracy: 0.8910\n",
      "Epoch 14/30\n",
      "55000/55000 [==============================] - 95s 2ms/step - loss: 0.1837 - accuracy: 0.9353 - val_loss: 0.5704 - val_accuracy: 0.8874\n",
      "Epoch 15/30\n",
      "55000/55000 [==============================] - 93s 2ms/step - loss: 0.1784 - accuracy: 0.9369 - val_loss: 0.5410 - val_accuracy: 0.8890\n",
      "Epoch 16/30\n",
      "55000/55000 [==============================] - 95s 2ms/step - loss: 0.1715 - accuracy: 0.9383 - val_loss: 0.6642 - val_accuracy: 0.8720\n",
      "Epoch 17/30\n",
      "55000/55000 [==============================] - 93s 2ms/step - loss: 0.1795 - accuracy: 0.9368 - val_loss: 0.7167 - val_accuracy: 0.8838\n",
      "Epoch 18/30\n",
      "55000/55000 [==============================] - 95s 2ms/step - loss: 0.1769 - accuracy: 0.9375 - val_loss: 0.6462 - val_accuracy: 0.8926\n",
      "Epoch 19/30\n",
      "55000/55000 [==============================] - 94s 2ms/step - loss: 0.1595 - accuracy: 0.9428 - val_loss: 0.7184 - val_accuracy: 0.8948\n",
      "Epoch 20/30\n",
      "55000/55000 [==============================] - 94s 2ms/step - loss: 0.1588 - accuracy: 0.9436 - val_loss: 0.6199 - val_accuracy: 0.8842\n",
      "Epoch 21/30\n",
      "55000/55000 [==============================] - 94s 2ms/step - loss: 0.1632 - accuracy: 0.9425 - val_loss: 0.6197 - val_accuracy: 0.8892\n",
      "Epoch 22/30\n",
      "55000/55000 [==============================] - 94s 2ms/step - loss: 0.1567 - accuracy: 0.9431 - val_loss: 0.7070 - val_accuracy: 0.8940\n",
      "Epoch 23/30\n",
      "55000/55000 [==============================] - 94s 2ms/step - loss: 0.1579 - accuracy: 0.9447 - val_loss: 0.5799 - val_accuracy: 0.8820\n",
      "Epoch 24/30\n",
      "55000/55000 [==============================] - 95s 2ms/step - loss: 0.1518 - accuracy: 0.9466 - val_loss: 0.6770 - val_accuracy: 0.8958\n",
      "Epoch 25/30\n",
      "55000/55000 [==============================] - 95s 2ms/step - loss: 0.1513 - accuracy: 0.9457 - val_loss: 0.7502 - val_accuracy: 0.8868\n",
      "Epoch 26/30\n",
      "55000/55000 [==============================] - 94s 2ms/step - loss: 0.1437 - accuracy: 0.9478 - val_loss: 0.6542 - val_accuracy: 0.8926\n",
      "Epoch 27/30\n",
      "55000/55000 [==============================] - 95s 2ms/step - loss: 0.1436 - accuracy: 0.9483 - val_loss: 0.7321 - val_accuracy: 0.8906\n",
      "Epoch 28/30\n",
      "55000/55000 [==============================] - 95s 2ms/step - loss: 0.1454 - accuracy: 0.9482 - val_loss: 0.7699 - val_accuracy: 0.8960\n",
      "Epoch 29/30\n",
      "55000/55000 [==============================] - 109s 2ms/step - loss: 0.1409 - accuracy: 0.9507 - val_loss: 0.6894 - val_accuracy: 0.8988\n",
      "Epoch 30/30\n",
      "55000/55000 [==============================] - 118s 2ms/step - loss: 0.1664 - accuracy: 0.9422 - val_loss: 0.7082 - val_accuracy: 0.8970\n"
     ]
    }
   ],
   "source": [
    "history4 = model.fit(X_train, y_train, batch_size=1, epochs=30,\n",
    "                    validation_data=(X_valid, y_valid))"
   ]
  },
  {
   "cell_type": "code",
   "execution_count": 68,
   "metadata": {},
   "outputs": [
    {
     "name": "stdout",
     "output_type": "stream",
     "text": [
      "313/313 [==============================] - 1s 2ms/step - loss: 0.6838 - accuracy: 0.8887\n"
     ]
    }
   ],
   "source": [
    "stochastic_mode = model.evaluate(X_test, y_test)"
   ]
  },
  {
   "cell_type": "code",
   "execution_count": 69,
   "metadata": {},
   "outputs": [
    {
     "data": {
      "text/plain": [
       "[0.683804452419281, 0.888700008392334]"
      ]
     },
     "execution_count": 69,
     "metadata": {},
     "output_type": "execute_result"
    }
   ],
   "source": [
    "stochastic_mode"
   ]
  },
  {
   "cell_type": "markdown",
   "metadata": {},
   "source": [
    "b-mini-batch mode: where the batch size is greater than one but less than the total dataset size. Usually, a number that can be divided into the total dataset size.\n",
    "\n",
    "batch size = 27500"
   ]
  },
  {
   "cell_type": "code",
   "execution_count": 70,
   "metadata": {},
   "outputs": [
    {
     "name": "stdout",
     "output_type": "stream",
     "text": [
      "Epoch 1/30\n",
      "2/2 [==============================] - 1s 333ms/step - loss: 0.1194 - accuracy: 0.9565 - val_loss: 0.7079 - val_accuracy: 0.8970\n",
      "Epoch 2/30\n",
      "2/2 [==============================] - 0s 226ms/step - loss: 0.1192 - accuracy: 0.9566 - val_loss: 0.7076 - val_accuracy: 0.8970\n",
      "Epoch 3/30\n",
      "2/2 [==============================] - 0s 213ms/step - loss: 0.1190 - accuracy: 0.9567 - val_loss: 0.7073 - val_accuracy: 0.8970\n",
      "Epoch 4/30\n",
      "2/2 [==============================] - 0s 201ms/step - loss: 0.1187 - accuracy: 0.9567 - val_loss: 0.7071 - val_accuracy: 0.8970\n",
      "Epoch 5/30\n",
      "2/2 [==============================] - 0s 207ms/step - loss: 0.1185 - accuracy: 0.9568 - val_loss: 0.7068 - val_accuracy: 0.8974\n",
      "Epoch 6/30\n",
      "2/2 [==============================] - 0s 201ms/step - loss: 0.1183 - accuracy: 0.9567 - val_loss: 0.7066 - val_accuracy: 0.8974\n",
      "Epoch 7/30\n",
      "2/2 [==============================] - 0s 205ms/step - loss: 0.1181 - accuracy: 0.9567 - val_loss: 0.7064 - val_accuracy: 0.8974\n",
      "Epoch 8/30\n",
      "2/2 [==============================] - 0s 198ms/step - loss: 0.1179 - accuracy: 0.9568 - val_loss: 0.7061 - val_accuracy: 0.8974\n",
      "Epoch 9/30\n",
      "2/2 [==============================] - 0s 200ms/step - loss: 0.1177 - accuracy: 0.9569 - val_loss: 0.7059 - val_accuracy: 0.8974\n",
      "Epoch 10/30\n",
      "2/2 [==============================] - 0s 200ms/step - loss: 0.1176 - accuracy: 0.9571 - val_loss: 0.7057 - val_accuracy: 0.8972\n",
      "Epoch 11/30\n",
      "2/2 [==============================] - 1s 260ms/step - loss: 0.1174 - accuracy: 0.9572 - val_loss: 0.7055 - val_accuracy: 0.8972\n",
      "Epoch 12/30\n",
      "2/2 [==============================] - 1s 329ms/step - loss: 0.1172 - accuracy: 0.9572 - val_loss: 0.7052 - val_accuracy: 0.8972\n",
      "Epoch 13/30\n",
      "2/2 [==============================] - 0s 224ms/step - loss: 0.1170 - accuracy: 0.9572 - val_loss: 0.7050 - val_accuracy: 0.8972\n",
      "Epoch 14/30\n",
      "2/2 [==============================] - 1s 271ms/step - loss: 0.1168 - accuracy: 0.9573 - val_loss: 0.7048 - val_accuracy: 0.8972\n",
      "Epoch 15/30\n",
      "2/2 [==============================] - 0s 238ms/step - loss: 0.1166 - accuracy: 0.9574 - val_loss: 0.7046 - val_accuracy: 0.8970\n",
      "Epoch 16/30\n",
      "2/2 [==============================] - 0s 222ms/step - loss: 0.1165 - accuracy: 0.9574 - val_loss: 0.7044 - val_accuracy: 0.8970\n",
      "Epoch 17/30\n",
      "2/2 [==============================] - 0s 218ms/step - loss: 0.1163 - accuracy: 0.9573 - val_loss: 0.7042 - val_accuracy: 0.8970\n",
      "Epoch 18/30\n",
      "2/2 [==============================] - 0s 226ms/step - loss: 0.1161 - accuracy: 0.9574 - val_loss: 0.7041 - val_accuracy: 0.8968\n",
      "Epoch 19/30\n",
      "2/2 [==============================] - 0s 249ms/step - loss: 0.1160 - accuracy: 0.9574 - val_loss: 0.7039 - val_accuracy: 0.8968\n",
      "Epoch 20/30\n",
      "2/2 [==============================] - 1s 261ms/step - loss: 0.1158 - accuracy: 0.9575 - val_loss: 0.7037 - val_accuracy: 0.8968\n",
      "Epoch 21/30\n",
      "2/2 [==============================] - 0s 231ms/step - loss: 0.1156 - accuracy: 0.9575 - val_loss: 0.7035 - val_accuracy: 0.8968\n",
      "Epoch 22/30\n",
      "2/2 [==============================] - 0s 221ms/step - loss: 0.1155 - accuracy: 0.9576 - val_loss: 0.7034 - val_accuracy: 0.8968\n",
      "Epoch 23/30\n",
      "2/2 [==============================] - 1s 262ms/step - loss: 0.1153 - accuracy: 0.9577 - val_loss: 0.7032 - val_accuracy: 0.8968\n",
      "Epoch 24/30\n",
      "2/2 [==============================] - 1s 286ms/step - loss: 0.1151 - accuracy: 0.9576 - val_loss: 0.7030 - val_accuracy: 0.8966\n",
      "Epoch 25/30\n",
      "2/2 [==============================] - 1s 296ms/step - loss: 0.1150 - accuracy: 0.9578 - val_loss: 0.7029 - val_accuracy: 0.8966\n",
      "Epoch 26/30\n",
      "2/2 [==============================] - 1s 262ms/step - loss: 0.1148 - accuracy: 0.9579 - val_loss: 0.7027 - val_accuracy: 0.8966\n",
      "Epoch 27/30\n",
      "2/2 [==============================] - 0s 203ms/step - loss: 0.1147 - accuracy: 0.9580 - val_loss: 0.7026 - val_accuracy: 0.8968\n",
      "Epoch 28/30\n",
      "2/2 [==============================] - 0s 244ms/step - loss: 0.1145 - accuracy: 0.9580 - val_loss: 0.7024 - val_accuracy: 0.8968\n",
      "Epoch 29/30\n",
      "2/2 [==============================] - 0s 186ms/step - loss: 0.1144 - accuracy: 0.9581 - val_loss: 0.7023 - val_accuracy: 0.8968\n",
      "Epoch 30/30\n",
      "2/2 [==============================] - 0s 194ms/step - loss: 0.1142 - accuracy: 0.9582 - val_loss: 0.7021 - val_accuracy: 0.8966\n"
     ]
    }
   ],
   "source": [
    "history3 = model.fit(X_train, y_train, batch_size=27500, epochs=30,\n",
    "                    validation_data=(X_valid, y_valid))"
   ]
  },
  {
   "cell_type": "code",
   "execution_count": 71,
   "metadata": {},
   "outputs": [
    {
     "name": "stdout",
     "output_type": "stream",
     "text": [
      "313/313 [==============================] - 1s 2ms/step - loss: 0.6780 - accuracy: 0.8890\n"
     ]
    }
   ],
   "source": [
    "mini_batch_mode = model.evaluate(X_test, y_test)"
   ]
  },
  {
   "cell_type": "code",
   "execution_count": 72,
   "metadata": {},
   "outputs": [
    {
     "data": {
      "text/plain": [
       "[0.6780264973640442, 0.8889999985694885]"
      ]
     },
     "execution_count": 72,
     "metadata": {},
     "output_type": "execute_result"
    }
   ],
   "source": [
    "mini_batch_mode"
   ]
  },
  {
   "cell_type": "markdown",
   "metadata": {},
   "source": [
    "c-batch mode: where the batch size is equal to the total dataset thus making the iteration and epoch values equivalent\n",
    "\n",
    "batch size = 30"
   ]
  },
  {
   "cell_type": "code",
   "execution_count": 73,
   "metadata": {},
   "outputs": [],
   "source": [
    "#history5 = model.fit(X_train, y_train, batch_size=55000, epochs=55000,\n",
    "                    #validation_data=(X_valid, y_valid))"
   ]
  },
  {
   "cell_type": "code",
   "execution_count": 74,
   "metadata": {},
   "outputs": [
    {
     "data": {
      "image/png": "[encoded data removed]",
      "text/plain": [
       "<Figure size 576x360 with 1 Axes>"
      ]
     },
     "metadata": {
      "needs_background": "light"
     },
     "output_type": "display_data"
    },
    {
     "data": {
      "image/png": "[encoded data removed]",
      "text/plain": [
       "<Figure size 576x360 with 1 Axes>"
      ]
     },
     "metadata": {
      "needs_background": "light"
     },
     "output_type": "display_data"
    }
   ],
   "source": [
    "pd.DataFrame(history4.history).plot(figsize=(8, 5))\n",
    "pd.DataFrame(history3.history).plot(figsize=(8, 5))\n",
    "plt.grid(True)\n",
    "plt.gca().set_ylim(0, 1)\n",
    "plt.show()"
   ]
  },
  {
   "cell_type": "markdown",
   "metadata": {},
   "source": [
    "3) Plot Learning curves when using different number of epochs"
   ]
  },
  {
   "cell_type": "markdown",
   "metadata": {},
   "source": [
    "a-number of epochs=5"
   ]
  },
  {
   "cell_type": "code",
   "execution_count": 75,
   "metadata": {},
   "outputs": [
    {
     "name": "stdout",
     "output_type": "stream",
     "text": [
      "Epoch 1/5\n",
      "1719/1719 [==============================] - 5s 3ms/step - loss: 0.0961 - accuracy: 0.9652 - val_loss: 0.7397 - val_accuracy: 0.9006\n",
      "Epoch 2/5\n",
      "1719/1719 [==============================] - 4s 3ms/step - loss: 0.0831 - accuracy: 0.9699 - val_loss: 0.7515 - val_accuracy: 0.9008\n",
      "Epoch 3/5\n",
      "1719/1719 [==============================] - 5s 3ms/step - loss: 0.0794 - accuracy: 0.9711 - val_loss: 0.7643 - val_accuracy: 0.9030\n",
      "Epoch 4/5\n",
      "1719/1719 [==============================] - 5s 3ms/step - loss: 0.0773 - accuracy: 0.9713 - val_loss: 0.7764 - val_accuracy: 0.9030\n",
      "Epoch 5/5\n",
      "1719/1719 [==============================] - 5s 3ms/step - loss: 0.0759 - accuracy: 0.9722 - val_loss: 0.7919 - val_accuracy: 0.9024\n"
     ]
    }
   ],
   "source": [
    "history6 = model.fit(X_train, y_train, batch_size=32, epochs=5,\n",
    "                    validation_data=(X_valid, y_valid))"
   ]
  },
  {
   "cell_type": "code",
   "execution_count": 76,
   "metadata": {},
   "outputs": [
    {
     "name": "stdout",
     "output_type": "stream",
     "text": [
      "313/313 [==============================] - 1s 2ms/step - loss: 0.7554 - accuracy: 0.8975\n"
     ]
    }
   ],
   "source": [
    "epochs5 = model.evaluate(X_test, y_test)"
   ]
  },
  {
   "cell_type": "markdown",
   "metadata": {},
   "source": [
    "b-number of epochs=50"
   ]
  },
  {
   "cell_type": "code",
   "execution_count": 77,
   "metadata": {},
   "outputs": [
    {
     "name": "stdout",
     "output_type": "stream",
     "text": [
      "Epoch 1/50\n",
      "1719/1719 [==============================] - 5s 3ms/step - loss: 0.0747 - accuracy: 0.9725 - val_loss: 0.7921 - val_accuracy: 0.9022\n",
      "Epoch 2/50\n",
      "1719/1719 [==============================] - 5s 3ms/step - loss: 0.0737 - accuracy: 0.9728 - val_loss: 0.8018 - val_accuracy: 0.9026\n",
      "Epoch 3/50\n",
      "1719/1719 [==============================] - 5s 3ms/step - loss: 0.0729 - accuracy: 0.9729 - val_loss: 0.8051 - val_accuracy: 0.9016\n",
      "Epoch 4/50\n",
      "1719/1719 [==============================] - 4s 3ms/step - loss: 0.0720 - accuracy: 0.9735 - val_loss: 0.8144 - val_accuracy: 0.9024\n",
      "Epoch 5/50\n",
      "1719/1719 [==============================] - 5s 3ms/step - loss: 0.0714 - accuracy: 0.9737 - val_loss: 0.8155 - val_accuracy: 0.9012\n",
      "Epoch 6/50\n",
      "1719/1719 [==============================] - 6s 4ms/step - loss: 0.0708 - accuracy: 0.9741 - val_loss: 0.8226 - val_accuracy: 0.9028\n",
      "Epoch 7/50\n",
      "1719/1719 [==============================] - 6s 3ms/step - loss: 0.0702 - accuracy: 0.9740 - val_loss: 0.8218 - val_accuracy: 0.9020\n",
      "Epoch 8/50\n",
      "1719/1719 [==============================] - 5s 3ms/step - loss: 0.0696 - accuracy: 0.9743 - val_loss: 0.8202 - val_accuracy: 0.9020\n",
      "Epoch 9/50\n",
      "1719/1719 [==============================] - 7s 4ms/step - loss: 0.0692 - accuracy: 0.9745 - val_loss: 0.8213 - val_accuracy: 0.9020\n",
      "Epoch 10/50\n",
      "1719/1719 [==============================] - 5s 3ms/step - loss: 0.0688 - accuracy: 0.9749 - val_loss: 0.8374 - val_accuracy: 0.9010\n",
      "Epoch 11/50\n",
      "1719/1719 [==============================] - 5s 3ms/step - loss: 0.0682 - accuracy: 0.9749 - val_loss: 0.8426 - val_accuracy: 0.9018\n",
      "Epoch 12/50\n",
      "1719/1719 [==============================] - 6s 3ms/step - loss: 0.0677 - accuracy: 0.9751 - val_loss: 0.8396 - val_accuracy: 0.9008\n",
      "Epoch 13/50\n",
      "1719/1719 [==============================] - 6s 3ms/step - loss: 0.0673 - accuracy: 0.9751 - val_loss: 0.8506 - val_accuracy: 0.9000\n",
      "Epoch 14/50\n",
      "1719/1719 [==============================] - 6s 4ms/step - loss: 0.0670 - accuracy: 0.9752 - val_loss: 0.8483 - val_accuracy: 0.9008\n",
      "Epoch 15/50\n",
      "1719/1719 [==============================] - 6s 4ms/step - loss: 0.0665 - accuracy: 0.9755 - val_loss: 0.8441 - val_accuracy: 0.9020\n",
      "Epoch 16/50\n",
      "1719/1719 [==============================] - 8s 5ms/step - loss: 0.0661 - accuracy: 0.9757 - val_loss: 0.8627 - val_accuracy: 0.9008\n",
      "Epoch 17/50\n",
      "1719/1719 [==============================] - 7s 4ms/step - loss: 0.0657 - accuracy: 0.9758 - val_loss: 0.8660 - val_accuracy: 0.9008\n",
      "Epoch 18/50\n",
      "1719/1719 [==============================] - 5s 3ms/step - loss: 0.0654 - accuracy: 0.9761 - val_loss: 0.8655 - val_accuracy: 0.8998\n",
      "Epoch 19/50\n",
      "1719/1719 [==============================] - 5s 3ms/step - loss: 0.0650 - accuracy: 0.9762 - val_loss: 0.8766 - val_accuracy: 0.9012\n",
      "Epoch 20/50\n",
      "1719/1719 [==============================] - 6s 4ms/step - loss: 0.0646 - accuracy: 0.9763 - val_loss: 0.8754 - val_accuracy: 0.9012\n",
      "Epoch 21/50\n",
      "1719/1719 [==============================] - 6s 3ms/step - loss: 0.0643 - accuracy: 0.9762 - val_loss: 0.8747 - val_accuracy: 0.9018\n",
      "Epoch 22/50\n",
      "1719/1719 [==============================] - 5s 3ms/step - loss: 0.0639 - accuracy: 0.9764 - val_loss: 0.8839 - val_accuracy: 0.8998\n",
      "Epoch 23/50\n",
      "1719/1719 [==============================] - 5s 3ms/step - loss: 0.0635 - accuracy: 0.9766 - val_loss: 0.8791 - val_accuracy: 0.9012\n",
      "Epoch 24/50\n",
      "1719/1719 [==============================] - 5s 3ms/step - loss: 0.0633 - accuracy: 0.9768 - val_loss: 0.8889 - val_accuracy: 0.9014\n",
      "Epoch 25/50\n",
      "1719/1719 [==============================] - 6s 4ms/step - loss: 0.0630 - accuracy: 0.9767 - val_loss: 0.8887 - val_accuracy: 0.9012\n",
      "Epoch 26/50\n",
      "1719/1719 [==============================] - 7s 4ms/step - loss: 0.0626 - accuracy: 0.9764 - val_loss: 0.8863 - val_accuracy: 0.9024\n",
      "Epoch 27/50\n",
      "1719/1719 [==============================] - 7s 4ms/step - loss: 0.0623 - accuracy: 0.9774 - val_loss: 0.9004 - val_accuracy: 0.9020\n",
      "Epoch 28/50\n",
      "1719/1719 [==============================] - 6s 4ms/step - loss: 0.0620 - accuracy: 0.9775 - val_loss: 0.8988 - val_accuracy: 0.9010\n",
      "Epoch 29/50\n",
      "1719/1719 [==============================] - 5s 3ms/step - loss: 0.0618 - accuracy: 0.9773 - val_loss: 0.8966 - val_accuracy: 0.9012\n",
      "Epoch 30/50\n",
      "1719/1719 [==============================] - 6s 3ms/step - loss: 0.0614 - accuracy: 0.9774 - val_loss: 0.8945 - val_accuracy: 0.9008\n",
      "Epoch 31/50\n",
      "1719/1719 [==============================] - 6s 3ms/step - loss: 0.0612 - accuracy: 0.9774 - val_loss: 0.8975 - val_accuracy: 0.8998\n",
      "Epoch 32/50\n",
      "1719/1719 [==============================] - 6s 3ms/step - loss: 0.0609 - accuracy: 0.9778 - val_loss: 0.9027 - val_accuracy: 0.9008\n",
      "Epoch 33/50\n",
      "1719/1719 [==============================] - 7s 4ms/step - loss: 0.0605 - accuracy: 0.9779 - val_loss: 0.8993 - val_accuracy: 0.9012\n",
      "Epoch 34/50\n",
      "1719/1719 [==============================] - 5s 3ms/step - loss: 0.0603 - accuracy: 0.9781 - val_loss: 0.9076 - val_accuracy: 0.9008\n",
      "Epoch 35/50\n",
      "1719/1719 [==============================] - 4s 3ms/step - loss: 0.0600 - accuracy: 0.9778 - val_loss: 0.9151 - val_accuracy: 0.8992\n",
      "Epoch 36/50\n",
      "1719/1719 [==============================] - 5s 3ms/step - loss: 0.0599 - accuracy: 0.9780 - val_loss: 0.9117 - val_accuracy: 0.8992\n",
      "Epoch 37/50\n",
      "1719/1719 [==============================] - 6s 3ms/step - loss: 0.0594 - accuracy: 0.9780 - val_loss: 0.9187 - val_accuracy: 0.9006\n",
      "Epoch 38/50\n",
      "1719/1719 [==============================] - 6s 3ms/step - loss: 0.0592 - accuracy: 0.9785 - val_loss: 0.9246 - val_accuracy: 0.9008\n",
      "Epoch 39/50\n",
      "1719/1719 [==============================] - 7s 4ms/step - loss: 0.0590 - accuracy: 0.9782 - val_loss: 0.9265 - val_accuracy: 0.9006\n",
      "Epoch 40/50\n",
      "1719/1719 [==============================] - 7s 4ms/step - loss: 0.0586 - accuracy: 0.9782 - val_loss: 0.9288 - val_accuracy: 0.9000\n",
      "Epoch 41/50\n",
      "1719/1719 [==============================] - 5s 3ms/step - loss: 0.0586 - accuracy: 0.9781 - val_loss: 0.9279 - val_accuracy: 0.8998\n",
      "Epoch 42/50\n",
      "1719/1719 [==============================] - 6s 3ms/step - loss: 0.0583 - accuracy: 0.9788 - val_loss: 0.9261 - val_accuracy: 0.9014\n",
      "Epoch 43/50\n",
      "1719/1719 [==============================] - 6s 3ms/step - loss: 0.0580 - accuracy: 0.9789 - val_loss: 0.9372 - val_accuracy: 0.8986\n",
      "Epoch 44/50\n",
      "1719/1719 [==============================] - 6s 4ms/step - loss: 0.0578 - accuracy: 0.9786 - val_loss: 0.9334 - val_accuracy: 0.9000\n",
      "Epoch 45/50\n",
      "1719/1719 [==============================] - 6s 4ms/step - loss: 0.0575 - accuracy: 0.9786 - val_loss: 0.9273 - val_accuracy: 0.8990\n",
      "Epoch 46/50\n",
      "1719/1719 [==============================] - 6s 4ms/step - loss: 0.0572 - accuracy: 0.9787 - val_loss: 0.9416 - val_accuracy: 0.8990\n",
      "Epoch 47/50\n",
      "1719/1719 [==============================] - 7s 4ms/step - loss: 0.0570 - accuracy: 0.9783 - val_loss: 0.9569 - val_accuracy: 0.8994\n",
      "Epoch 48/50\n",
      "1719/1719 [==============================] - 6s 4ms/step - loss: 0.0568 - accuracy: 0.9786 - val_loss: 0.9518 - val_accuracy: 0.8992\n",
      "Epoch 49/50\n",
      "1719/1719 [==============================] - 6s 3ms/step - loss: 0.0564 - accuracy: 0.9789 - val_loss: 0.9488 - val_accuracy: 0.9014\n",
      "Epoch 50/50\n",
      "1719/1719 [==============================] - 6s 4ms/step - loss: 0.0563 - accuracy: 0.9788 - val_loss: 0.9506 - val_accuracy: 0.9006\n"
     ]
    }
   ],
   "source": [
    "history7 = model.fit(X_train, y_train, batch_size=32, epochs=50,\n",
    "                    validation_data=(X_valid, y_valid))"
   ]
  },
  {
   "cell_type": "code",
   "execution_count": 78,
   "metadata": {},
   "outputs": [
    {
     "name": "stdout",
     "output_type": "stream",
     "text": [
      "313/313 [==============================] - 1s 2ms/step - loss: 0.9168 - accuracy: 0.8980\n"
     ]
    }
   ],
   "source": [
    "epochs50 = model.evaluate(X_test, y_test)"
   ]
  },
  {
   "cell_type": "code",
   "execution_count": 79,
   "metadata": {},
   "outputs": [
    {
     "data": {
      "image/png": "[encoded data removed]",
      "text/plain": [
       "<Figure size 576x360 with 1 Axes>"
      ]
     },
     "metadata": {
      "needs_background": "light"
     },
     "output_type": "display_data"
    },
    {
     "data": {
      "image/png": "[encoded data removed]",
      "text/plain": [
       "<Figure size 576x360 with 1 Axes>"
      ]
     },
     "metadata": {
      "needs_background": "light"
     },
     "output_type": "display_data"
    }
   ],
   "source": [
    "pd.DataFrame(history6.history).plot(figsize=(8, 5))\n",
    "pd.DataFrame(history7.history).plot(figsize=(8, 5))\n",
    "plt.grid(True)\n",
    "plt.gca().set_ylim(0, 1)\n",
    "plt.show()"
   ]
  },
  {
   "cell_type": "markdown",
   "metadata": {},
   "source": [
    "# 4) Add additional neurons and use Dropout Layer. Plot Learning curves."
   ]
  },
  {
   "cell_type": "markdown",
   "metadata": {},
   "source": [
    "Construct a Model with one dropout"
   ]
  },
  {
   "cell_type": "code",
   "execution_count": 80,
   "metadata": {},
   "outputs": [
    {
     "name": "stderr",
     "output_type": "stream",
     "text": [
      "Using TensorFlow backend.\n"
     ]
    }
   ],
   "source": [
    "from keras.layers import Dropout"
   ]
  },
  {
   "cell_type": "code",
   "execution_count": 81,
   "metadata": {},
   "outputs": [],
   "source": [
    "model = keras.models.Sequential()\n",
    "model.add(keras.layers.Flatten(input_shape=[28, 28]))\n",
    "model.add(keras.layers.Dense(500, activation=\"relu\"))\n",
    "model.add((keras.layers.Dropout(0.2)))\n",
    "model.add(keras.layers.Dense(200, activation=\"relu\"))\n",
    "model.add(keras.layers.Dense(10, activation=\"softmax\"))\n",
    "\n"
   ]
  },
  {
   "cell_type": "code",
   "execution_count": 82,
   "metadata": {},
   "outputs": [],
   "source": [
    "#model.add(Dropout(0.2,input_shape=(60,)))"
   ]
  },
  {
   "cell_type": "code",
   "execution_count": 83,
   "metadata": {},
   "outputs": [
    {
     "data": {
      "text/plain": [
       "[<tensorflow.python.keras.layers.core.Flatten at 0x1cf3f508d08>,\n",
       " <tensorflow.python.keras.layers.core.Dense at 0x1cf3f508d88>,\n",
       " <tensorflow.python.keras.layers.core.Dropout at 0x1cf3f511c08>,\n",
       " <tensorflow.python.keras.layers.core.Dense at 0x1cf3f51ac08>,\n",
       " <tensorflow.python.keras.layers.core.Dense at 0x1cf3f55cc08>]"
      ]
     },
     "execution_count": 83,
     "metadata": {},
     "output_type": "execute_result"
    }
   ],
   "source": [
    "model.layers"
   ]
  },
  {
   "cell_type": "code",
   "execution_count": 84,
   "metadata": {},
   "outputs": [
    {
     "name": "stdout",
     "output_type": "stream",
     "text": [
      "Model: \"sequential\"\n",
      "_________________________________________________________________\n",
      "Layer (type)                 Output Shape              Param #   \n",
      "=================================================================\n",
      "flatten (Flatten)            (None, 784)               0         \n",
      "_________________________________________________________________\n",
      "dense (Dense)                (None, 500)               392500    \n",
      "_________________________________________________________________\n",
      "dropout (Dropout)            (None, 500)               0         \n",
      "_________________________________________________________________\n",
      "dense_1 (Dense)              (None, 200)               100200    \n",
      "_________________________________________________________________\n",
      "dense_2 (Dense)              (None, 10)                2010      \n",
      "=================================================================\n",
      "Total params: 494,710\n",
      "Trainable params: 494,710\n",
      "Non-trainable params: 0\n",
      "_________________________________________________________________\n"
     ]
    }
   ],
   "source": [
    "model.summary()"
   ]
  },
  {
   "cell_type": "code",
   "execution_count": 85,
   "metadata": {},
   "outputs": [
    {
     "data": {
      "text/plain": [
       "'dense'"
      ]
     },
     "execution_count": 85,
     "metadata": {},
     "output_type": "execute_result"
    }
   ],
   "source": [
    "hidden1 = model.layers[1]\n",
    "hidden1.name"
   ]
  },
  {
   "cell_type": "code",
   "execution_count": 86,
   "metadata": {},
   "outputs": [],
   "source": [
    "weights, biases = hidden1.get_weights()"
   ]
  },
  {
   "cell_type": "code",
   "execution_count": 87,
   "metadata": {},
   "outputs": [
    {
     "data": {
      "text/plain": [
       "array([[-0.01087485,  0.06447577, -0.01608268, ..., -0.01695348,\n",
       "        -0.02536787,  0.03425395],\n",
       "       [ 0.01717205, -0.02850194,  0.0058112 , ...,  0.01176058,\n",
       "         0.03970736, -0.02281613],\n",
       "       [ 0.01256752,  0.0663734 , -0.00959557, ..., -0.04442007,\n",
       "        -0.05931844,  0.03440005],\n",
       "       ...,\n",
       "       [ 0.06086373,  0.02036492, -0.03388802, ...,  0.05842534,\n",
       "        -0.00369998,  0.01514301],\n",
       "       [-0.0108687 , -0.01553619,  0.0446021 , ...,  0.00742939,\n",
       "        -0.01466264, -0.04836497],\n",
       "       [-0.06078715, -0.00891202,  0.01242123, ..., -0.03440594,\n",
       "        -0.0445056 , -0.02049035]], dtype=float32)"
      ]
     },
     "execution_count": 87,
     "metadata": {},
     "output_type": "execute_result"
    }
   ],
   "source": [
    "weights"
   ]
  },
  {
   "cell_type": "code",
   "execution_count": 88,
   "metadata": {},
   "outputs": [
    {
     "data": {
      "text/plain": [
       "(784, 500)"
      ]
     },
     "execution_count": 88,
     "metadata": {},
     "output_type": "execute_result"
    }
   ],
   "source": [
    "weights.shape"
   ]
  },
  {
   "cell_type": "code",
   "execution_count": 89,
   "metadata": {},
   "outputs": [
    {
     "data": {
      "text/plain": [
       "array([0., 0., 0., 0., 0., 0., 0., 0., 0., 0., 0., 0., 0., 0., 0., 0., 0.,\n",
       "       0., 0., 0., 0., 0., 0., 0., 0., 0., 0., 0., 0., 0., 0., 0., 0., 0.,\n",
       "       0., 0., 0., 0., 0., 0., 0., 0., 0., 0., 0., 0., 0., 0., 0., 0., 0.,\n",
       "       0., 0., 0., 0., 0., 0., 0., 0., 0., 0., 0., 0., 0., 0., 0., 0., 0.,\n",
       "       0., 0., 0., 0., 0., 0., 0., 0., 0., 0., 0., 0., 0., 0., 0., 0., 0.,\n",
       "       0., 0., 0., 0., 0., 0., 0., 0., 0., 0., 0., 0., 0., 0., 0., 0., 0.,\n",
       "       0., 0., 0., 0., 0., 0., 0., 0., 0., 0., 0., 0., 0., 0., 0., 0., 0.,\n",
       "       0., 0., 0., 0., 0., 0., 0., 0., 0., 0., 0., 0., 0., 0., 0., 0., 0.,\n",
       "       0., 0., 0., 0., 0., 0., 0., 0., 0., 0., 0., 0., 0., 0., 0., 0., 0.,\n",
       "       0., 0., 0., 0., 0., 0., 0., 0., 0., 0., 0., 0., 0., 0., 0., 0., 0.,\n",
       "       0., 0., 0., 0., 0., 0., 0., 0., 0., 0., 0., 0., 0., 0., 0., 0., 0.,\n",
       "       0., 0., 0., 0., 0., 0., 0., 0., 0., 0., 0., 0., 0., 0., 0., 0., 0.,\n",
       "       0., 0., 0., 0., 0., 0., 0., 0., 0., 0., 0., 0., 0., 0., 0., 0., 0.,\n",
       "       0., 0., 0., 0., 0., 0., 0., 0., 0., 0., 0., 0., 0., 0., 0., 0., 0.,\n",
       "       0., 0., 0., 0., 0., 0., 0., 0., 0., 0., 0., 0., 0., 0., 0., 0., 0.,\n",
       "       0., 0., 0., 0., 0., 0., 0., 0., 0., 0., 0., 0., 0., 0., 0., 0., 0.,\n",
       "       0., 0., 0., 0., 0., 0., 0., 0., 0., 0., 0., 0., 0., 0., 0., 0., 0.,\n",
       "       0., 0., 0., 0., 0., 0., 0., 0., 0., 0., 0., 0., 0., 0., 0., 0., 0.,\n",
       "       0., 0., 0., 0., 0., 0., 0., 0., 0., 0., 0., 0., 0., 0., 0., 0., 0.,\n",
       "       0., 0., 0., 0., 0., 0., 0., 0., 0., 0., 0., 0., 0., 0., 0., 0., 0.,\n",
       "       0., 0., 0., 0., 0., 0., 0., 0., 0., 0., 0., 0., 0., 0., 0., 0., 0.,\n",
       "       0., 0., 0., 0., 0., 0., 0., 0., 0., 0., 0., 0., 0., 0., 0., 0., 0.,\n",
       "       0., 0., 0., 0., 0., 0., 0., 0., 0., 0., 0., 0., 0., 0., 0., 0., 0.,\n",
       "       0., 0., 0., 0., 0., 0., 0., 0., 0., 0., 0., 0., 0., 0., 0., 0., 0.,\n",
       "       0., 0., 0., 0., 0., 0., 0., 0., 0., 0., 0., 0., 0., 0., 0., 0., 0.,\n",
       "       0., 0., 0., 0., 0., 0., 0., 0., 0., 0., 0., 0., 0., 0., 0., 0., 0.,\n",
       "       0., 0., 0., 0., 0., 0., 0., 0., 0., 0., 0., 0., 0., 0., 0., 0., 0.,\n",
       "       0., 0., 0., 0., 0., 0., 0., 0., 0., 0., 0., 0., 0., 0., 0., 0., 0.,\n",
       "       0., 0., 0., 0., 0., 0., 0., 0., 0., 0., 0., 0., 0., 0., 0., 0., 0.,\n",
       "       0., 0., 0., 0., 0., 0., 0.], dtype=float32)"
      ]
     },
     "execution_count": 89,
     "metadata": {},
     "output_type": "execute_result"
    }
   ],
   "source": [
    "biases"
   ]
  },
  {
   "cell_type": "code",
   "execution_count": 90,
   "metadata": {},
   "outputs": [
    {
     "data": {
      "text/plain": [
       "(500,)"
      ]
     },
     "execution_count": 90,
     "metadata": {},
     "output_type": "execute_result"
    }
   ],
   "source": [
    "biases.shape"
   ]
  },
  {
   "cell_type": "code",
   "execution_count": 91,
   "metadata": {},
   "outputs": [],
   "source": [
    "model.compile(loss=\"sparse_categorical_crossentropy\",\n",
    "              optimizer=\"sgd\",\n",
    "              metrics=[\"accuracy\"])"
   ]
  },
  {
   "cell_type": "code",
   "execution_count": 92,
   "metadata": {},
   "outputs": [
    {
     "name": "stdout",
     "output_type": "stream",
     "text": [
      "Epoch 1/30\n",
      "1719/1719 [==============================] - 11s 6ms/step - loss: 0.7555 - accuracy: 0.7467 - val_loss: 0.4991 - val_accuracy: 0.8344\n",
      "Epoch 2/30\n",
      "1719/1719 [==============================] - 9s 5ms/step - loss: 0.5080 - accuracy: 0.8224 - val_loss: 0.4331 - val_accuracy: 0.8546\n",
      "Epoch 3/30\n",
      "1719/1719 [==============================] - 9s 5ms/step - loss: 0.4551 - accuracy: 0.8419 - val_loss: 0.4070 - val_accuracy: 0.8654\n",
      "Epoch 4/30\n",
      "1719/1719 [==============================] - 8s 5ms/step - loss: 0.4236 - accuracy: 0.8513 - val_loss: 0.3842 - val_accuracy: 0.8666\n",
      "Epoch 5/30\n",
      "1719/1719 [==============================] - 9s 5ms/step - loss: 0.4004 - accuracy: 0.8579 - val_loss: 0.3686 - val_accuracy: 0.8712\n",
      "Epoch 6/30\n",
      "1719/1719 [==============================] - 10s 6ms/step - loss: 0.3839 - accuracy: 0.8651 - val_loss: 0.3640 - val_accuracy: 0.8746\n",
      "Epoch 7/30\n",
      "1719/1719 [==============================] - 10s 6ms/step - loss: 0.3703 - accuracy: 0.8685 - val_loss: 0.3569 - val_accuracy: 0.8724\n",
      "Epoch 8/30\n",
      "1719/1719 [==============================] - 11s 6ms/step - loss: 0.3572 - accuracy: 0.8720 - val_loss: 0.3419 - val_accuracy: 0.8802\n",
      "Epoch 9/30\n",
      "1719/1719 [==============================] - 12s 7ms/step - loss: 0.3461 - accuracy: 0.8758 - val_loss: 0.3423 - val_accuracy: 0.8780\n",
      "Epoch 10/30\n",
      "1719/1719 [==============================] - 11s 6ms/step - loss: 0.3379 - accuracy: 0.8793 - val_loss: 0.3343 - val_accuracy: 0.8794\n",
      "Epoch 11/30\n",
      "1719/1719 [==============================] - 12s 7ms/step - loss: 0.3283 - accuracy: 0.8817 - val_loss: 0.3351 - val_accuracy: 0.8834\n",
      "Epoch 12/30\n",
      "1719/1719 [==============================] - 12s 7ms/step - loss: 0.3211 - accuracy: 0.8847 - val_loss: 0.3283 - val_accuracy: 0.8842\n",
      "Epoch 13/30\n",
      "1719/1719 [==============================] - 12s 7ms/step - loss: 0.3132 - accuracy: 0.8865 - val_loss: 0.3219 - val_accuracy: 0.8836\n",
      "Epoch 14/30\n",
      "1719/1719 [==============================] - 9s 5ms/step - loss: 0.3067 - accuracy: 0.8894 - val_loss: 0.3195 - val_accuracy: 0.8908\n",
      "Epoch 15/30\n",
      "1719/1719 [==============================] - 10s 6ms/step - loss: 0.2996 - accuracy: 0.8929 - val_loss: 0.3115 - val_accuracy: 0.8890\n",
      "Epoch 16/30\n",
      "1719/1719 [==============================] - 11s 6ms/step - loss: 0.2957 - accuracy: 0.8938 - val_loss: 0.3068 - val_accuracy: 0.8930\n",
      "Epoch 17/30\n",
      "1719/1719 [==============================] - 9s 5ms/step - loss: 0.2877 - accuracy: 0.8972 - val_loss: 0.3107 - val_accuracy: 0.8894\n",
      "Epoch 18/30\n",
      "1719/1719 [==============================] - 12s 7ms/step - loss: 0.2825 - accuracy: 0.8974 - val_loss: 0.3061 - val_accuracy: 0.8886\n",
      "Epoch 19/30\n",
      "1719/1719 [==============================] - 10s 6ms/step - loss: 0.2778 - accuracy: 0.8989 - val_loss: 0.2991 - val_accuracy: 0.8914\n",
      "Epoch 20/30\n",
      "1719/1719 [==============================] - 11s 6ms/step - loss: 0.2727 - accuracy: 0.9004 - val_loss: 0.3031 - val_accuracy: 0.8910\n",
      "Epoch 21/30\n",
      "1719/1719 [==============================] - 11s 6ms/step - loss: 0.2690 - accuracy: 0.9022 - val_loss: 0.2955 - val_accuracy: 0.8930\n",
      "Epoch 22/30\n",
      "1719/1719 [==============================] - 11s 6ms/step - loss: 0.2635 - accuracy: 0.9042 - val_loss: 0.2953 - val_accuracy: 0.8942\n",
      "Epoch 23/30\n",
      "1719/1719 [==============================] - 12s 7ms/step - loss: 0.2598 - accuracy: 0.9054 - val_loss: 0.2937 - val_accuracy: 0.8948\n",
      "Epoch 24/30\n",
      "1719/1719 [==============================] - 12s 7ms/step - loss: 0.2562 - accuracy: 0.9070 - val_loss: 0.2926 - val_accuracy: 0.8948\n",
      "Epoch 25/30\n",
      "1719/1719 [==============================] - 11s 7ms/step - loss: 0.2517 - accuracy: 0.9095 - val_loss: 0.2961 - val_accuracy: 0.8944\n",
      "Epoch 26/30\n",
      "1719/1719 [==============================] - 9s 5ms/step - loss: 0.2487 - accuracy: 0.9092 - val_loss: 0.2920 - val_accuracy: 0.8946\n",
      "Epoch 27/30\n",
      "1719/1719 [==============================] - 10s 6ms/step - loss: 0.2451 - accuracy: 0.9102 - val_loss: 0.2891 - val_accuracy: 0.8954\n",
      "Epoch 28/30\n",
      "1719/1719 [==============================] - 11s 7ms/step - loss: 0.2403 - accuracy: 0.9122 - val_loss: 0.2950 - val_accuracy: 0.8934\n",
      "Epoch 29/30\n",
      "1719/1719 [==============================] - 18s 10ms/step - loss: 0.2364 - accuracy: 0.9141 - val_loss: 0.2861 - val_accuracy: 0.8984\n",
      "Epoch 30/30\n",
      "1719/1719 [==============================] - 19s 11ms/step - loss: 0.2325 - accuracy: 0.9142 - val_loss: 0.2812 - val_accuracy: 0.8958\n"
     ]
    }
   ],
   "source": [
    "history8 = model.fit(X_train, y_train, batch_size=32, epochs=30,\n",
    "                    validation_data=(X_valid, y_valid))"
   ]
  },
  {
   "cell_type": "code",
   "execution_count": 93,
   "metadata": {},
   "outputs": [
    {
     "name": "stdout",
     "output_type": "stream",
     "text": [
      "313/313 [==============================] - 1s 5ms/step - loss: 0.3132 - accuracy: 0.8894\n"
     ]
    }
   ],
   "source": [
    " dropl = model.evaluate(X_test, y_test)"
   ]
  },
  {
   "cell_type": "code",
   "execution_count": 94,
   "metadata": {},
   "outputs": [
    {
     "data": {
      "image/png": "[encoded data removed]",
      "text/plain": [
       "<Figure size 576x360 with 1 Axes>"
      ]
     },
     "metadata": {
      "needs_background": "light"
     },
     "output_type": "display_data"
    }
   ],
   "source": [
    "pd.DataFrame(history8.history).plot(figsize=(8, 5))\n",
    "plt.grid(True)\n",
    "plt.gca().set_ylim(0, 1)\n",
    "plt.show()"
   ]
  },
  {
   "cell_type": "markdown",
   "metadata": {},
   "source": [
    "# 5) Use Batch Normalisation"
   ]
  },
  {
   "cell_type": "code",
   "execution_count": 95,
   "metadata": {},
   "outputs": [],
   "source": [
    "model = keras.models.Sequential()\n",
    "model.add(keras.layers.Flatten(input_shape=[28, 28]))\n",
    "model.add(keras.layers.Dense(500, activation=\"relu\"))\n",
    "model.add((keras.layers.Dropout(0.2)))\n",
    "model.add(keras.layers.Dense(200, activation=\"relu\"))\n",
    "model.add(keras.layers.BatchNormalization())\n",
    "model.add(keras.layers.Dense(10, activation=\"softmax\"))\n",
    "\n",
    "\n",
    "\n"
   ]
  },
  {
   "cell_type": "code",
   "execution_count": 96,
   "metadata": {},
   "outputs": [
    {
     "data": {
      "text/plain": [
       "[<tensorflow.python.keras.layers.core.Flatten at 0x1cf3fd12948>,\n",
       " <tensorflow.python.keras.layers.core.Dense at 0x1cf3fd6e488>,\n",
       " <tensorflow.python.keras.layers.core.Dropout at 0x1cf3fd20e48>,\n",
       " <tensorflow.python.keras.layers.core.Dense at 0x1cf3fcf3908>,\n",
       " <tensorflow.python.keras.layers.normalization_v2.BatchNormalization at 0x1cf3fd2c188>,\n",
       " <tensorflow.python.keras.layers.core.Dense at 0x1cf3f10e6c8>]"
      ]
     },
     "execution_count": 96,
     "metadata": {},
     "output_type": "execute_result"
    }
   ],
   "source": [
    "model.layers"
   ]
  },
  {
   "cell_type": "code",
   "execution_count": 97,
   "metadata": {},
   "outputs": [],
   "source": [
    "model.compile(loss=\"sparse_categorical_crossentropy\",\n",
    "              optimizer=\"sgd\",\n",
    "              metrics=[\"accuracy\"])"
   ]
  },
  {
   "cell_type": "code",
   "execution_count": 98,
   "metadata": {},
   "outputs": [
    {
     "name": "stdout",
     "output_type": "stream",
     "text": [
      "Epoch 1/30\n",
      "1719/1719 [==============================] - 12s 7ms/step - loss: 0.5843 - accuracy: 0.7933 - val_loss: 0.4121 - val_accuracy: 0.8538\n",
      "Epoch 2/30\n",
      "1719/1719 [==============================] - 11s 6ms/step - loss: 0.4350 - accuracy: 0.8458 - val_loss: 0.3585 - val_accuracy: 0.8700\n",
      "Epoch 3/30\n",
      "1719/1719 [==============================] - 13s 8ms/step - loss: 0.3980 - accuracy: 0.8565 - val_loss: 0.3540 - val_accuracy: 0.8728\n",
      "Epoch 4/30\n",
      "1719/1719 [==============================] - 11s 7ms/step - loss: 0.3700 - accuracy: 0.8663 - val_loss: 0.3675 - val_accuracy: 0.8626\n",
      "Epoch 5/30\n",
      "1719/1719 [==============================] - 12s 7ms/step - loss: 0.3476 - accuracy: 0.8729 - val_loss: 0.3359 - val_accuracy: 0.8772\n",
      "Epoch 6/30\n",
      "1719/1719 [==============================] - 11s 7ms/step - loss: 0.3334 - accuracy: 0.8775 - val_loss: 0.3120 - val_accuracy: 0.8876\n",
      "Epoch 7/30\n",
      "1719/1719 [==============================] - 12s 7ms/step - loss: 0.3215 - accuracy: 0.8820 - val_loss: 0.3117 - val_accuracy: 0.8848\n",
      "Epoch 8/30\n",
      "1719/1719 [==============================] - 12s 7ms/step - loss: 0.3115 - accuracy: 0.8856 - val_loss: 0.3130 - val_accuracy: 0.8834\n",
      "Epoch 9/30\n",
      "1719/1719 [==============================] - 13s 8ms/step - loss: 0.2998 - accuracy: 0.8897 - val_loss: 0.3191 - val_accuracy: 0.8846\n",
      "Epoch 10/30\n",
      "1719/1719 [==============================] - 14s 8ms/step - loss: 0.2930 - accuracy: 0.8914 - val_loss: 0.2893 - val_accuracy: 0.8934\n",
      "Epoch 11/30\n",
      "1719/1719 [==============================] - 13s 7ms/step - loss: 0.2809 - accuracy: 0.8969 - val_loss: 0.2888 - val_accuracy: 0.8994\n",
      "Epoch 12/30\n",
      "1719/1719 [==============================] - 11s 7ms/step - loss: 0.2757 - accuracy: 0.8974 - val_loss: 0.2970 - val_accuracy: 0.8954\n",
      "Epoch 13/30\n",
      "1719/1719 [==============================] - 11s 6ms/step - loss: 0.2718 - accuracy: 0.8997 - val_loss: 0.3002 - val_accuracy: 0.8870\n",
      "Epoch 14/30\n",
      "1719/1719 [==============================] - 12s 7ms/step - loss: 0.2621 - accuracy: 0.9018 - val_loss: 0.2837 - val_accuracy: 0.8996\n",
      "Epoch 15/30\n",
      "1719/1719 [==============================] - 11s 6ms/step - loss: 0.2574 - accuracy: 0.9040 - val_loss: 0.2929 - val_accuracy: 0.8988\n",
      "Epoch 16/30\n",
      "1719/1719 [==============================] - 11s 7ms/step - loss: 0.2528 - accuracy: 0.9059 - val_loss: 0.2735 - val_accuracy: 0.8994\n",
      "Epoch 17/30\n",
      "1719/1719 [==============================] - 12s 7ms/step - loss: 0.2438 - accuracy: 0.9095 - val_loss: 0.3031 - val_accuracy: 0.8860\n",
      "Epoch 18/30\n",
      "1719/1719 [==============================] - 11s 6ms/step - loss: 0.2407 - accuracy: 0.9096 - val_loss: 0.3016 - val_accuracy: 0.8938\n",
      "Epoch 19/30\n",
      "1719/1719 [==============================] - 11s 6ms/step - loss: 0.2355 - accuracy: 0.9117 - val_loss: 0.3109 - val_accuracy: 0.8902\n",
      "Epoch 20/30\n",
      "1719/1719 [==============================] - 11s 6ms/step - loss: 0.2293 - accuracy: 0.9142 - val_loss: 0.2817 - val_accuracy: 0.8954\n",
      "Epoch 21/30\n",
      "1719/1719 [==============================] - 11s 6ms/step - loss: 0.2254 - accuracy: 0.9159 - val_loss: 0.3017 - val_accuracy: 0.8894\n",
      "Epoch 22/30\n",
      "1719/1719 [==============================] - 10s 6ms/step - loss: 0.2204 - accuracy: 0.9179 - val_loss: 0.2732 - val_accuracy: 0.8992\n",
      "Epoch 23/30\n",
      "1719/1719 [==============================] - 12s 7ms/step - loss: 0.2178 - accuracy: 0.9187 - val_loss: 0.2877 - val_accuracy: 0.8962\n",
      "Epoch 24/30\n",
      "1719/1719 [==============================] - 12s 7ms/step - loss: 0.2133 - accuracy: 0.9209 - val_loss: 0.2862 - val_accuracy: 0.8954\n",
      "Epoch 25/30\n",
      "1719/1719 [==============================] - 13s 7ms/step - loss: 0.2106 - accuracy: 0.9212 - val_loss: 0.2739 - val_accuracy: 0.9068\n",
      "Epoch 26/30\n",
      "1719/1719 [==============================] - 11s 6ms/step - loss: 0.2054 - accuracy: 0.9224 - val_loss: 0.2719 - val_accuracy: 0.9016\n",
      "Epoch 27/30\n",
      "1719/1719 [==============================] - 10s 6ms/step - loss: 0.2012 - accuracy: 0.9247 - val_loss: 0.2892 - val_accuracy: 0.8988\n",
      "Epoch 28/30\n",
      "1719/1719 [==============================] - 10s 6ms/step - loss: 0.1990 - accuracy: 0.9253 - val_loss: 0.2802 - val_accuracy: 0.9022\n",
      "Epoch 29/30\n",
      "1719/1719 [==============================] - 10s 6ms/step - loss: 0.1950 - accuracy: 0.9268 - val_loss: 0.2972 - val_accuracy: 0.8988\n",
      "Epoch 30/30\n",
      "1719/1719 [==============================] - 10s 6ms/step - loss: 0.1961 - accuracy: 0.9253 - val_loss: 0.2834 - val_accuracy: 0.8996\n"
     ]
    }
   ],
   "source": [
    "history9 = model.fit(X_train, y_train, batch_size=32, epochs=30,\n",
    "                    validation_data=(X_valid, y_valid))"
   ]
  },
  {
   "cell_type": "code",
   "execution_count": 99,
   "metadata": {},
   "outputs": [
    {
     "name": "stdout",
     "output_type": "stream",
     "text": [
      "313/313 [==============================] - 1s 2ms/step - loss: 0.3253 - accuracy: 0.8912\n"
     ]
    }
   ],
   "source": [
    "BN = model.evaluate(X_test, y_test)"
   ]
  },
  {
   "cell_type": "code",
   "execution_count": 100,
   "metadata": {},
   "outputs": [
    {
     "data": {
      "image/png": "[encoded data removed]",
      "text/plain": [
       "<Figure size 576x360 with 1 Axes>"
      ]
     },
     "metadata": {
      "needs_background": "light"
     },
     "output_type": "display_data"
    }
   ],
   "source": [
    "pd.DataFrame(history9.history).plot(figsize=(8, 5))\n",
    "plt.grid(True)\n",
    "plt.gca().set_ylim(0, 1)\n",
    "plt.show()"
   ]
  },
  {
   "cell_type": "markdown",
   "metadata": {},
   "source": [
    "# 6) repeat with more layers"
   ]
  },
  {
   "cell_type": "code",
   "execution_count": 101,
   "metadata": {},
   "outputs": [],
   "source": [
    "model = keras.models.Sequential()\n",
    "model.add(keras.layers.Flatten(input_shape=[28, 28]))\n",
    "model.add(keras.layers.Dense(200, activation=\"relu\"))\n",
    "model.add((keras.layers.Dropout(0.5)))\n",
    "model.add(keras.layers.Dense(150, activation=\"relu\"))\n",
    "model.add((keras.layers.Dropout(0.5)))\n",
    "model.add(keras.layers.Dense(80, activation=\"relu\"))\n",
    "model.add(keras.layers.Dense(50, activation=\"relu\"))\n",
    "model.add(keras.layers.BatchNormalization())\n",
    "model.add(keras.layers.Dense(10, activation=\"softmax\"))\n",
    "\n"
   ]
  },
  {
   "cell_type": "code",
   "execution_count": 102,
   "metadata": {},
   "outputs": [
    {
     "data": {
      "text/plain": [
       "[<tensorflow.python.keras.layers.core.Flatten at 0x1cf48b75fc8>,\n",
       " <tensorflow.python.keras.layers.core.Dense at 0x1cf48b75848>,\n",
       " <tensorflow.python.keras.layers.core.Dropout at 0x1cf4014fe08>,\n",
       " <tensorflow.python.keras.layers.core.Dense at 0x1cf3c8b0b88>,\n",
       " <tensorflow.python.keras.layers.core.Dropout at 0x1cf1b799148>,\n",
       " <tensorflow.python.keras.layers.core.Dense at 0x1cf1b799408>,\n",
       " <tensorflow.python.keras.layers.core.Dense at 0x1cf4aa02208>,\n",
       " <tensorflow.python.keras.layers.normalization_v2.BatchNormalization at 0x1cf3fbed4c8>,\n",
       " <tensorflow.python.keras.layers.core.Dense at 0x1cf4aa02dc8>]"
      ]
     },
     "execution_count": 102,
     "metadata": {},
     "output_type": "execute_result"
    }
   ],
   "source": [
    "model.layers"
   ]
  },
  {
   "cell_type": "code",
   "execution_count": 103,
   "metadata": {},
   "outputs": [],
   "source": [
    "model.compile(loss=\"sparse_categorical_crossentropy\",\n",
    "              optimizer=\"sgd\",\n",
    "              metrics=[\"accuracy\"])"
   ]
  },
  {
   "cell_type": "code",
   "execution_count": 104,
   "metadata": {},
   "outputs": [
    {
     "name": "stdout",
     "output_type": "stream",
     "text": [
      "Epoch 1/30\n",
      "1719/1719 [==============================] - 5s 3ms/step - loss: 1.0899 - accuracy: 0.6057 - val_loss: 0.6345 - val_accuracy: 0.7774\n",
      "Epoch 2/30\n",
      "1719/1719 [==============================] - 5s 3ms/step - loss: 0.7294 - accuracy: 0.7377 - val_loss: 0.5070 - val_accuracy: 0.8272\n",
      "Epoch 3/30\n",
      "1719/1719 [==============================] - 5s 3ms/step - loss: 0.6352 - accuracy: 0.7726 - val_loss: 0.4457 - val_accuracy: 0.8442\n",
      "Epoch 4/30\n",
      "1719/1719 [==============================] - 5s 3ms/step - loss: 0.5863 - accuracy: 0.7946 - val_loss: 0.4214 - val_accuracy: 0.8538\n",
      "Epoch 5/30\n",
      "1719/1719 [==============================] - 5s 3ms/step - loss: 0.5508 - accuracy: 0.8071 - val_loss: 0.4208 - val_accuracy: 0.8460\n",
      "Epoch 6/30\n",
      "1719/1719 [==============================] - 5s 3ms/step - loss: 0.5288 - accuracy: 0.8140 - val_loss: 0.3928 - val_accuracy: 0.8586\n",
      "Epoch 7/30\n",
      "1719/1719 [==============================] - 5s 3ms/step - loss: 0.5085 - accuracy: 0.8212 - val_loss: 0.3864 - val_accuracy: 0.8616\n",
      "Epoch 8/30\n",
      "1719/1719 [==============================] - 5s 3ms/step - loss: 0.4951 - accuracy: 0.8245 - val_loss: 0.3780 - val_accuracy: 0.8632\n",
      "Epoch 9/30\n",
      "1719/1719 [==============================] - 5s 3ms/step - loss: 0.4792 - accuracy: 0.8314 - val_loss: 0.3790 - val_accuracy: 0.8632\n",
      "Epoch 10/30\n",
      "1719/1719 [==============================] - 5s 3ms/step - loss: 0.4695 - accuracy: 0.8356 - val_loss: 0.3731 - val_accuracy: 0.8670\n",
      "Epoch 11/30\n",
      "1719/1719 [==============================] - 5s 3ms/step - loss: 0.4635 - accuracy: 0.8368 - val_loss: 0.3530 - val_accuracy: 0.8738\n",
      "Epoch 12/30\n",
      "1719/1719 [==============================] - 5s 3ms/step - loss: 0.4527 - accuracy: 0.8411 - val_loss: 0.3630 - val_accuracy: 0.8660\n",
      "Epoch 13/30\n",
      "1719/1719 [==============================] - 5s 3ms/step - loss: 0.4414 - accuracy: 0.8435 - val_loss: 0.3516 - val_accuracy: 0.8736\n",
      "Epoch 14/30\n",
      "1719/1719 [==============================] - 5s 3ms/step - loss: 0.4388 - accuracy: 0.8462 - val_loss: 0.3536 - val_accuracy: 0.8764\n",
      "Epoch 15/30\n",
      "1719/1719 [==============================] - 5s 3ms/step - loss: 0.4330 - accuracy: 0.8453 - val_loss: 0.3555 - val_accuracy: 0.8746\n",
      "Epoch 16/30\n",
      "1719/1719 [==============================] - 5s 3ms/step - loss: 0.4287 - accuracy: 0.8499 - val_loss: 0.3473 - val_accuracy: 0.8748\n",
      "Epoch 17/30\n",
      "1719/1719 [==============================] - 5s 3ms/step - loss: 0.4183 - accuracy: 0.8516 - val_loss: 0.3323 - val_accuracy: 0.8820\n",
      "Epoch 18/30\n",
      "1719/1719 [==============================] - 5s 3ms/step - loss: 0.4151 - accuracy: 0.8529 - val_loss: 0.3377 - val_accuracy: 0.8794\n",
      "Epoch 19/30\n",
      "1719/1719 [==============================] - 5s 3ms/step - loss: 0.4084 - accuracy: 0.8539 - val_loss: 0.3322 - val_accuracy: 0.8810\n",
      "Epoch 20/30\n",
      "1719/1719 [==============================] - 5s 3ms/step - loss: 0.4097 - accuracy: 0.8557 - val_loss: 0.3379 - val_accuracy: 0.8776\n",
      "Epoch 21/30\n",
      "1719/1719 [==============================] - 5s 3ms/step - loss: 0.4036 - accuracy: 0.8561 - val_loss: 0.3280 - val_accuracy: 0.8816\n",
      "Epoch 22/30\n",
      "1719/1719 [==============================] - 5s 3ms/step - loss: 0.3966 - accuracy: 0.8589 - val_loss: 0.3305 - val_accuracy: 0.8780\n",
      "Epoch 23/30\n",
      "1719/1719 [==============================] - 5s 3ms/step - loss: 0.3982 - accuracy: 0.8593 - val_loss: 0.3288 - val_accuracy: 0.8808\n",
      "Epoch 24/30\n",
      "1719/1719 [==============================] - 5s 3ms/step - loss: 0.3904 - accuracy: 0.8620 - val_loss: 0.3332 - val_accuracy: 0.8804\n",
      "Epoch 25/30\n",
      "1719/1719 [==============================] - 5s 3ms/step - loss: 0.3901 - accuracy: 0.8623 - val_loss: 0.3352 - val_accuracy: 0.8780\n",
      "Epoch 26/30\n",
      "1719/1719 [==============================] - 5s 3ms/step - loss: 0.3872 - accuracy: 0.8625 - val_loss: 0.3260 - val_accuracy: 0.8856\n",
      "Epoch 27/30\n",
      "1719/1719 [==============================] - 5s 3ms/step - loss: 0.3826 - accuracy: 0.8651 - val_loss: 0.3238 - val_accuracy: 0.8852\n",
      "Epoch 28/30\n",
      "1719/1719 [==============================] - 5s 3ms/step - loss: 0.3776 - accuracy: 0.8661 - val_loss: 0.3257 - val_accuracy: 0.8796\n",
      "Epoch 29/30\n",
      "1719/1719 [==============================] - 5s 3ms/step - loss: 0.3775 - accuracy: 0.8654 - val_loss: 0.3239 - val_accuracy: 0.8850\n",
      "Epoch 30/30\n",
      "1719/1719 [==============================] - 5s 3ms/step - loss: 0.3751 - accuracy: 0.8660 - val_loss: 0.3346 - val_accuracy: 0.8778\n"
     ]
    }
   ],
   "source": [
    "history10 = model.fit(X_train, y_train, batch_size=32, epochs=30,\n",
    "                    validation_data=(X_valid, y_valid))"
   ]
  },
  {
   "cell_type": "code",
   "execution_count": 105,
   "metadata": {},
   "outputs": [
    {
     "name": "stdout",
     "output_type": "stream",
     "text": [
      "313/313 [==============================] - 0s 2ms/step - loss: 0.3695 - accuracy: 0.8720\n"
     ]
    }
   ],
   "source": [
    "ML = model.evaluate(X_test, y_test)"
   ]
  },
  {
   "cell_type": "code",
   "execution_count": 106,
   "metadata": {},
   "outputs": [
    {
     "data": {
      "image/png": "[encoded data removed]",
      "text/plain": [
       "<Figure size 576x360 with 1 Axes>"
      ]
     },
     "metadata": {
      "needs_background": "light"
     },
     "output_type": "display_data"
    }
   ],
   "source": [
    "pd.DataFrame(history10.history).plot(figsize=(8, 5))\n",
    "plt.grid(True)\n",
    "plt.gca().set_ylim(0, 1)\n",
    "plt.show()"
   ]
  },
  {
   "cell_type": "markdown",
   "metadata": {},
   "source": [
    "# 7) apply on different datasets"
   ]
  },
  {
   "cell_type": "markdown",
   "metadata": {},
   "source": []
  },
  {
   "cell_type": "code",
   "execution_count": 107,
   "metadata": {},
   "outputs": [],
   "source": [
    "data = keras.datasets.mnist\n",
    "(X_train_full, y_train_full), (X_test, y_test) = data.load_data()"
   ]
  },
  {
   "cell_type": "code",
   "execution_count": 108,
   "metadata": {},
   "outputs": [
    {
     "data": {
      "text/plain": [
       "(60000, 28, 28)"
      ]
     },
     "execution_count": 108,
     "metadata": {},
     "output_type": "execute_result"
    }
   ],
   "source": [
    "X_train_full.shape"
   ]
  },
  {
   "cell_type": "code",
   "execution_count": 109,
   "metadata": {},
   "outputs": [
    {
     "data": {
      "text/plain": [
       "array([5, 0, 4, ..., 5, 6, 8], dtype=uint8)"
      ]
     },
     "execution_count": 109,
     "metadata": {},
     "output_type": "execute_result"
    }
   ],
   "source": [
    "y_train_full"
   ]
  },
  {
   "cell_type": "code",
   "execution_count": 110,
   "metadata": {},
   "outputs": [],
   "source": [
    "X_valid, X_train = X_train_full[:10000] / 255., X_train_full[10000:] / 255.\n",
    "y_valid, y_train = y_train_full[:10000], y_train_full[10000:]\n",
    "X_test = X_test / 255."
   ]
  },
  {
   "cell_type": "code",
   "execution_count": 111,
   "metadata": {},
   "outputs": [
    {
     "data": {
      "text/plain": [
       "array([3, 8, 7, ..., 5, 6, 8], dtype=uint8)"
      ]
     },
     "execution_count": 111,
     "metadata": {},
     "output_type": "execute_result"
    }
   ],
   "source": [
    "y_train"
   ]
  },
  {
   "cell_type": "code",
   "execution_count": 112,
   "metadata": {},
   "outputs": [],
   "source": [
    "class_names = [\"0\", \"1\", \"2\", \"3\", \"4\",\"5\", \"6\", \"7\", \"8\", \"9\"]"
   ]
  },
  {
   "cell_type": "code",
   "execution_count": 113,
   "metadata": {},
   "outputs": [
    {
     "data": {
      "text/plain": [
       "'3'"
      ]
     },
     "execution_count": 113,
     "metadata": {},
     "output_type": "execute_result"
    }
   ],
   "source": [
    "class_names[y_train[0]]"
   ]
  },
  {
   "cell_type": "code",
   "execution_count": 114,
   "metadata": {},
   "outputs": [
    {
     "data": {
      "image/png": "[encoded data removed]",
      "text/plain": [
       "<Figure size 864x345.6 with 40 Axes>"
      ]
     },
     "metadata": {
      "needs_background": "light"
     },
     "output_type": "display_data"
    }
   ],
   "source": [
    "n_rows = 4\n",
    "n_cols = 10\n",
    "plt.figure(figsize=(n_cols * 1.2, n_rows * 1.2))\n",
    "for row in range(n_rows):\n",
    "    for col in range(n_cols):\n",
    "        index = n_cols * row + col\n",
    "        plt.subplot(n_rows, n_cols, index + 1)\n",
    "        plt.imshow(X_train[index], cmap=\"binary\", interpolation=\"nearest\")\n",
    "        plt.axis('off')\n",
    "        plt.title(class_names[y_train[index]], fontsize=12)\n",
    "plt.subplots_adjust(wspace=0.1, hspace=0.5)\n",
    "plt.show()"
   ]
  },
  {
   "cell_type": "markdown",
   "metadata": {},
   "source": [
    "Construct a Model"
   ]
  },
  {
   "cell_type": "code",
   "execution_count": 115,
   "metadata": {},
   "outputs": [],
   "source": [
    "model = keras.models.Sequential()\n",
    "model.add(keras.layers.Flatten(input_shape=[28, 28]))\n",
    "model.add(keras.layers.Dense(300, activation=\"relu\"))\n",
    "model.add((keras.layers.Dropout(0.5)))\n",
    "model.add(keras.layers.Dense(200, activation=\"relu\"))\n",
    "model.add(keras.layers.Dense(100, activation=\"relu\"))\n",
    "model.add(keras.layers.BatchNormalization())\n",
    "model.add(keras.layers.Dense(10, activation=\"softmax\"))\n"
   ]
  },
  {
   "cell_type": "code",
   "execution_count": 116,
   "metadata": {},
   "outputs": [],
   "source": [
    "keras.backend.clear_session()\n",
    "np.random.seed(42)"
   ]
  },
  {
   "cell_type": "code",
   "execution_count": 117,
   "metadata": {},
   "outputs": [
    {
     "data": {
      "text/plain": [
       "[<tensorflow.python.keras.layers.core.Flatten at 0x1cf3d68b048>,\n",
       " <tensorflow.python.keras.layers.core.Dense at 0x1cf3d68e1c8>,\n",
       " <tensorflow.python.keras.layers.core.Dropout at 0x1cf3d69e848>,\n",
       " <tensorflow.python.keras.layers.core.Dense at 0x1cf3d67fd48>,\n",
       " <tensorflow.python.keras.layers.core.Dense at 0x1cf3d4f3e88>,\n",
       " <tensorflow.python.keras.layers.normalization_v2.BatchNormalization at 0x1cf3d4f5908>,\n",
       " <tensorflow.python.keras.layers.core.Dense at 0x1cf3d4e9f08>]"
      ]
     },
     "execution_count": 117,
     "metadata": {},
     "output_type": "execute_result"
    }
   ],
   "source": [
    "model.layers"
   ]
  },
  {
   "cell_type": "code",
   "execution_count": 118,
   "metadata": {},
   "outputs": [
    {
     "name": "stdout",
     "output_type": "stream",
     "text": [
      "Model: \"sequential_3\"\n",
      "_________________________________________________________________\n",
      "Layer (type)                 Output Shape              Param #   \n",
      "=================================================================\n",
      "flatten_3 (Flatten)          (None, 784)               0         \n",
      "_________________________________________________________________\n",
      "dense_11 (Dense)             (None, 300)               235500    \n",
      "_________________________________________________________________\n",
      "dropout_4 (Dropout)          (None, 300)               0         \n",
      "_________________________________________________________________\n",
      "dense_12 (Dense)             (None, 200)               60200     \n",
      "_________________________________________________________________\n",
      "dense_13 (Dense)             (None, 100)               20100     \n",
      "_________________________________________________________________\n",
      "batch_normalization_2 (Batch (None, 100)               400       \n",
      "_________________________________________________________________\n",
      "dense_14 (Dense)             (None, 10)                1010      \n",
      "=================================================================\n",
      "Total params: 317,210\n",
      "Trainable params: 317,010\n",
      "Non-trainable params: 200\n",
      "_________________________________________________________________\n"
     ]
    }
   ],
   "source": [
    "model.summary()"
   ]
  },
  {
   "cell_type": "code",
   "execution_count": 119,
   "metadata": {},
   "outputs": [
    {
     "data": {
      "text/plain": [
       "'dense_11'"
      ]
     },
     "execution_count": 119,
     "metadata": {},
     "output_type": "execute_result"
    }
   ],
   "source": [
    "hidden1 = model.layers[1]\n",
    "hidden1.name"
   ]
  },
  {
   "cell_type": "code",
   "execution_count": 120,
   "metadata": {},
   "outputs": [
    {
     "data": {
      "text/plain": [
       "True"
      ]
     },
     "execution_count": 120,
     "metadata": {},
     "output_type": "execute_result"
    }
   ],
   "source": [
    "model.get_layer(hidden1.name) is hidden1"
   ]
  },
  {
   "cell_type": "code",
   "execution_count": 121,
   "metadata": {},
   "outputs": [],
   "source": [
    "weights, biases = hidden1.get_weights()"
   ]
  },
  {
   "cell_type": "code",
   "execution_count": 122,
   "metadata": {},
   "outputs": [
    {
     "data": {
      "text/plain": [
       "array([[-0.04081975,  0.05720402,  0.070557  , ..., -0.04917201,\n",
       "        -0.07025655,  0.0172051 ],\n",
       "       [ 0.04195054, -0.06353848,  0.04525857, ...,  0.00031666,\n",
       "         0.0542361 , -0.0320443 ],\n",
       "       [ 0.02280384, -0.01868952, -0.06241119, ...,  0.00083815,\n",
       "         0.02179063, -0.00157457],\n",
       "       ...,\n",
       "       [-0.07425775, -0.02616493, -0.07357869, ..., -0.03909646,\n",
       "         0.00766376,  0.00645903],\n",
       "       [ 0.0079017 , -0.02307434,  0.02412941, ...,  0.06647845,\n",
       "        -0.06502932,  0.04125687],\n",
       "       [ 0.04228248, -0.04331343, -0.0658965 , ...,  0.00246159,\n",
       "        -0.07028286, -0.0615798 ]], dtype=float32)"
      ]
     },
     "execution_count": 122,
     "metadata": {},
     "output_type": "execute_result"
    }
   ],
   "source": [
    "weights"
   ]
  },
  {
   "cell_type": "code",
   "execution_count": 123,
   "metadata": {},
   "outputs": [
    {
     "data": {
      "text/plain": [
       "(784, 300)"
      ]
     },
     "execution_count": 123,
     "metadata": {},
     "output_type": "execute_result"
    }
   ],
   "source": [
    "weights.shape"
   ]
  },
  {
   "cell_type": "code",
   "execution_count": 124,
   "metadata": {},
   "outputs": [
    {
     "data": {
      "text/plain": [
       "array([0., 0., 0., 0., 0., 0., 0., 0., 0., 0., 0., 0., 0., 0., 0., 0., 0.,\n",
       "       0., 0., 0., 0., 0., 0., 0., 0., 0., 0., 0., 0., 0., 0., 0., 0., 0.,\n",
       "       0., 0., 0., 0., 0., 0., 0., 0., 0., 0., 0., 0., 0., 0., 0., 0., 0.,\n",
       "       0., 0., 0., 0., 0., 0., 0., 0., 0., 0., 0., 0., 0., 0., 0., 0., 0.,\n",
       "       0., 0., 0., 0., 0., 0., 0., 0., 0., 0., 0., 0., 0., 0., 0., 0., 0.,\n",
       "       0., 0., 0., 0., 0., 0., 0., 0., 0., 0., 0., 0., 0., 0., 0., 0., 0.,\n",
       "       0., 0., 0., 0., 0., 0., 0., 0., 0., 0., 0., 0., 0., 0., 0., 0., 0.,\n",
       "       0., 0., 0., 0., 0., 0., 0., 0., 0., 0., 0., 0., 0., 0., 0., 0., 0.,\n",
       "       0., 0., 0., 0., 0., 0., 0., 0., 0., 0., 0., 0., 0., 0., 0., 0., 0.,\n",
       "       0., 0., 0., 0., 0., 0., 0., 0., 0., 0., 0., 0., 0., 0., 0., 0., 0.,\n",
       "       0., 0., 0., 0., 0., 0., 0., 0., 0., 0., 0., 0., 0., 0., 0., 0., 0.,\n",
       "       0., 0., 0., 0., 0., 0., 0., 0., 0., 0., 0., 0., 0., 0., 0., 0., 0.,\n",
       "       0., 0., 0., 0., 0., 0., 0., 0., 0., 0., 0., 0., 0., 0., 0., 0., 0.,\n",
       "       0., 0., 0., 0., 0., 0., 0., 0., 0., 0., 0., 0., 0., 0., 0., 0., 0.,\n",
       "       0., 0., 0., 0., 0., 0., 0., 0., 0., 0., 0., 0., 0., 0., 0., 0., 0.,\n",
       "       0., 0., 0., 0., 0., 0., 0., 0., 0., 0., 0., 0., 0., 0., 0., 0., 0.,\n",
       "       0., 0., 0., 0., 0., 0., 0., 0., 0., 0., 0., 0., 0., 0., 0., 0., 0.,\n",
       "       0., 0., 0., 0., 0., 0., 0., 0., 0., 0., 0.], dtype=float32)"
      ]
     },
     "execution_count": 124,
     "metadata": {},
     "output_type": "execute_result"
    }
   ],
   "source": [
    "biases"
   ]
  },
  {
   "cell_type": "code",
   "execution_count": 125,
   "metadata": {},
   "outputs": [
    {
     "data": {
      "text/plain": [
       "(300,)"
      ]
     },
     "execution_count": 125,
     "metadata": {},
     "output_type": "execute_result"
    }
   ],
   "source": [
    "biases.shape"
   ]
  },
  {
   "cell_type": "code",
   "execution_count": 126,
   "metadata": {},
   "outputs": [],
   "source": [
    "model.compile(loss=\"sparse_categorical_crossentropy\",\n",
    "              optimizer=\"sgd\",\n",
    "              metrics=[\"accuracy\"])"
   ]
  },
  {
   "cell_type": "code",
   "execution_count": 127,
   "metadata": {},
   "outputs": [
    {
     "name": "stdout",
     "output_type": "stream",
     "text": [
      "Epoch 1/30\n",
      "1563/1563 [==============================] - 5s 3ms/step - loss: 0.5959 - accuracy: 0.8146 - val_loss: 0.2151 - val_accuracy: 0.9378\n",
      "Epoch 2/30\n",
      "1563/1563 [==============================] - 5s 3ms/step - loss: 0.3067 - accuracy: 0.9060 - val_loss: 0.1607 - val_accuracy: 0.9521\n",
      "Epoch 3/30\n",
      "1563/1563 [==============================] - 5s 3ms/step - loss: 0.2424 - accuracy: 0.9258 - val_loss: 0.1367 - val_accuracy: 0.9586\n",
      "Epoch 4/30\n",
      "1563/1563 [==============================] - 5s 3ms/step - loss: 0.2102 - accuracy: 0.9349 - val_loss: 0.1255 - val_accuracy: 0.9610\n",
      "Epoch 5/30\n",
      "1563/1563 [==============================] - 5s 3ms/step - loss: 0.1874 - accuracy: 0.9429 - val_loss: 0.1160 - val_accuracy: 0.9654\n",
      "Epoch 6/30\n",
      "1563/1563 [==============================] - 6s 4ms/step - loss: 0.1721 - accuracy: 0.9469 - val_loss: 0.1058 - val_accuracy: 0.9678\n",
      "Epoch 7/30\n",
      "1563/1563 [==============================] - 6s 4ms/step - loss: 0.1571 - accuracy: 0.9516 - val_loss: 0.1038 - val_accuracy: 0.9692\n",
      "Epoch 8/30\n",
      "1563/1563 [==============================] - 6s 4ms/step - loss: 0.1467 - accuracy: 0.9543 - val_loss: 0.0969 - val_accuracy: 0.9702\n",
      "Epoch 9/30\n",
      "1563/1563 [==============================] - 6s 4ms/step - loss: 0.1355 - accuracy: 0.9575 - val_loss: 0.0913 - val_accuracy: 0.9726\n",
      "Epoch 10/30\n",
      "1563/1563 [==============================] - 5s 3ms/step - loss: 0.1259 - accuracy: 0.9615 - val_loss: 0.0922 - val_accuracy: 0.9717\n",
      "Epoch 11/30\n",
      "1563/1563 [==============================] - 6s 4ms/step - loss: 0.1218 - accuracy: 0.9624 - val_loss: 0.0851 - val_accuracy: 0.9745\n",
      "Epoch 12/30\n",
      "1563/1563 [==============================] - 5s 3ms/step - loss: 0.1150 - accuracy: 0.9643 - val_loss: 0.0822 - val_accuracy: 0.9751\n",
      "Epoch 13/30\n",
      "1563/1563 [==============================] - 5s 3ms/step - loss: 0.1079 - accuracy: 0.9659 - val_loss: 0.0823 - val_accuracy: 0.9743\n",
      "Epoch 14/30\n",
      "1563/1563 [==============================] - 5s 3ms/step - loss: 0.1052 - accuracy: 0.9672 - val_loss: 0.0811 - val_accuracy: 0.9743\n",
      "Epoch 15/30\n",
      "1563/1563 [==============================] - 5s 3ms/step - loss: 0.1019 - accuracy: 0.9678 - val_loss: 0.0825 - val_accuracy: 0.9749\n",
      "Epoch 16/30\n",
      "1563/1563 [==============================] - 5s 3ms/step - loss: 0.0951 - accuracy: 0.9703 - val_loss: 0.0804 - val_accuracy: 0.9764\n",
      "Epoch 17/30\n",
      "1563/1563 [==============================] - 5s 3ms/step - loss: 0.0920 - accuracy: 0.9712 - val_loss: 0.0790 - val_accuracy: 0.9762\n",
      "Epoch 18/30\n",
      "1563/1563 [==============================] - 5s 3ms/step - loss: 0.0897 - accuracy: 0.9711 - val_loss: 0.0774 - val_accuracy: 0.9766\n",
      "Epoch 19/30\n",
      "1563/1563 [==============================] - 5s 3ms/step - loss: 0.0847 - accuracy: 0.9730 - val_loss: 0.0769 - val_accuracy: 0.9772\n",
      "Epoch 20/30\n",
      "1563/1563 [==============================] - 5s 3ms/step - loss: 0.0827 - accuracy: 0.9725 - val_loss: 0.0745 - val_accuracy: 0.9777\n",
      "Epoch 21/30\n",
      "1563/1563 [==============================] - 5s 3ms/step - loss: 0.0794 - accuracy: 0.9744 - val_loss: 0.0755 - val_accuracy: 0.9785\n",
      "Epoch 22/30\n",
      "1563/1563 [==============================] - 5s 3ms/step - loss: 0.0775 - accuracy: 0.9751 - val_loss: 0.0740 - val_accuracy: 0.9792\n",
      "Epoch 23/30\n",
      "1563/1563 [==============================] - 6s 4ms/step - loss: 0.0789 - accuracy: 0.9745 - val_loss: 0.0730 - val_accuracy: 0.9792\n",
      "Epoch 24/30\n",
      "1563/1563 [==============================] - 5s 3ms/step - loss: 0.0717 - accuracy: 0.9768 - val_loss: 0.0770 - val_accuracy: 0.9778\n",
      "Epoch 25/30\n",
      "1563/1563 [==============================] - 5s 3ms/step - loss: 0.0704 - accuracy: 0.9764 - val_loss: 0.0753 - val_accuracy: 0.9797\n",
      "Epoch 26/30\n",
      "1563/1563 [==============================] - 5s 3ms/step - loss: 0.0678 - accuracy: 0.9785 - val_loss: 0.0751 - val_accuracy: 0.9793\n",
      "Epoch 27/30\n",
      "1563/1563 [==============================] - 5s 4ms/step - loss: 0.0625 - accuracy: 0.9799 - val_loss: 0.0727 - val_accuracy: 0.9796\n",
      "Epoch 28/30\n",
      "1563/1563 [==============================] - 5s 3ms/step - loss: 0.0646 - accuracy: 0.9789 - val_loss: 0.0722 - val_accuracy: 0.9806\n",
      "Epoch 29/30\n",
      "1563/1563 [==============================] - 5s 3ms/step - loss: 0.0629 - accuracy: 0.9793 - val_loss: 0.0726 - val_accuracy: 0.9788\n",
      "Epoch 30/30\n",
      "1563/1563 [==============================] - 5s 3ms/step - loss: 0.0625 - accuracy: 0.9795 - val_loss: 0.0719 - val_accuracy: 0.9797\n"
     ]
    }
   ],
   "source": [
    "historyf = model.fit(X_train, y_train, batch_size=32, epochs=30,\n",
    "                    validation_data=(X_valid, y_valid))"
   ]
  },
  {
   "cell_type": "code",
   "execution_count": 128,
   "metadata": {},
   "outputs": [
    {
     "name": "stdout",
     "output_type": "stream",
     "text": [
      "313/313 [==============================] - 0s 2ms/step - loss: 0.0667 - accuracy: 0.9806\n"
     ]
    }
   ],
   "source": [
    "ND = model.evaluate(X_test, y_test)"
   ]
  },
  {
   "cell_type": "code",
   "execution_count": 129,
   "metadata": {},
   "outputs": [
    {
     "data": {
      "image/png": "[encoded data removed]",
      "text/plain": [
       "<Figure size 576x360 with 1 Axes>"
      ]
     },
     "metadata": {
      "needs_background": "light"
     },
     "output_type": "display_data"
    }
   ],
   "source": [
    "pd.DataFrame(historyf.history).plot(figsize=(8, 5))\n",
    "plt.grid(True)\n",
    "plt.gca().set_ylim(0, 1)\n",
    "plt.show()"
   ]
  },
  {
   "cell_type": "markdown",
   "metadata": {},
   "source": [
    "https://keras.io/search.html?query=Batch%20Normalisation\n",
    "\n",
    "https://keras.io/api/layers/normalization_layers/batch_normalization/\n",
    "       \n",
    "https://keras.io/api/layers/regularization_layers/dropout/\n",
    "            \n",
    "https://keras.io/guides/sequential_model/\n",
    "                \n",
    "https://machinelearningmastery.com/dropout-regularization-deep-learning-models-keras/"
   ]
  },
  {
   "cell_type": "code",
   "execution_count": 131,
   "metadata": {},
   "outputs": [
    {
     "data": {
      "image/png": "[encoded data removed]",
      "text/plain": [
       "<Figure size 432x288 with 1 Axes>"
      ]
     },
     "metadata": {
      "needs_background": "light"
     },
     "output_type": "display_data"
    }
   ],
   "source": [
    "# libraries\n",
    "import numpy as np\n",
    "import matplotlib.pyplot as plt\n",
    " \n",
    "# set width of bar\n",
    "barWidth = 0.25\n",
    " \n",
    "# set height of bar\n",
    "bars1 = [osgd[0], RMSprop[0], Nadam[0], stochastic_mode[0], mini_batch_mode[0], epochs5[0], epochs50[0], dropl[0], BN[0], ML[0], ND[0]]\n",
    "bars2 = [osgd[1], RMSprop[1], Nadam[1], stochastic_mode[1], mini_batch_mode[0], epochs5[1], epochs50[1], dropl[1], BN[1], ML[1], ND[1]]\n",
    "\n",
    " \n",
    "# Set position of bar on X axis\n",
    "r1 = np.arange(len(bars1))\n",
    "r2 = [x + barWidth for x in r1]\n",
    " \n",
    "# Make the plot\n",
    "plt.bar(r1, bars1, color='#7f6d5f', width=barWidth, edgecolor='white', label='lossa')\n",
    "plt.bar(r2, bars2, color='#557f2d', width=barWidth, edgecolor='white', label='ccuracy')\n",
    "\n",
    " \n",
    "# Add xticks on the middle of the group bars\n",
    "plt.xlabel('group', fontweight='bold')\n",
    "plt.xticks([r + barWidth for r in range(len(bars1))], ['sgd', 'RMSprop', 'Nadam', 'stochastic_mode', 'mini_batch_mode','epochs5','epochs50','dropl','BN','ML','ND'])\n",
    "\n",
    "# Create legend & Show graphic\n",
    "plt.legend()\n",
    "plt.show()\n"
   ]
  },
  {
   "cell_type": "code",
   "execution_count": null,
   "metadata": {},
   "outputs": [],
   "source": []
  }
 ],
 "metadata": {
  "kernelspec": {
   "display_name": "Python 3",
   "language": "python",
   "name": "python3"
  },
  "language_info": {
   "codemirror_mode": {
    "name": "ipython",
    "version": 3
   },
   "file_extension": ".py",
   "mimetype": "text/x-python",
   "name": "python",
   "nbconvert_exporter": "python",
   "pygments_lexer": "ipython3",
   "version": "3.7.3"
  }
 },
 "nbformat": 4,
 "nbformat_minor": 2
}
