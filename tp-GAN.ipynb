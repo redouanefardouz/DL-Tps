{
 "cells": [
  {
   "cell_type": "markdown",
   "metadata": {},
   "source": [
    "#### Import TensorFlow and other libraries"
   ]
  },
  {
   "cell_type": "code",
   "execution_count": 23,
   "metadata": {},
   "outputs": [],
   "source": [
    "import glob\n",
    "import imageio\n",
    "import matplotlib.pyplot as plt\n",
    "import tensorflow as tf\n",
    "import numpy as np\n",
    "import os\n",
    "import PIL\n",
    "from tensorflow.keras import layers\n",
    "import time\n",
    "\n",
    "from IPython import display"
   ]
  },
  {
   "cell_type": "markdown",
   "metadata": {},
   "source": [
    "#### Load and prepare the dataset "
   ]
  },
  {
   "cell_type": "code",
   "execution_count": 24,
   "metadata": {},
   "outputs": [],
   "source": [
    "(train_images, train_labels), (_, _) = tf.keras.datasets.mnist.load_data()"
   ]
  },
  {
   "cell_type": "code",
   "execution_count": 25,
   "metadata": {},
   "outputs": [],
   "source": [
    "train_images = train_images.reshape(train_images.shape[0], 28, 28, 1).astype('float32')\n",
    "train_images = (train_images - 127.5) / 127.5 # Normalize the images to [-1, 1]"
   ]
  },
  {
   "cell_type": "code",
   "execution_count": 26,
   "metadata": {},
   "outputs": [],
   "source": [
    "BUFFER_SIZE = 60000\n",
    "BATCH_SIZE = 256"
   ]
  },
  {
   "cell_type": "code",
   "execution_count": 27,
   "metadata": {},
   "outputs": [],
   "source": [
    "train_dataset = tf.data.Dataset.from_tensor_slices(train_images).shuffle(BUFFER_SIZE).batch(BATCH_SIZE)"
   ]
  },
  {
   "cell_type": "markdown",
   "metadata": {},
   "source": [
    "##### Create the models"
   ]
  },
  {
   "cell_type": "code",
   "execution_count": 28,
   "metadata": {},
   "outputs": [],
   "source": [
    "def make_generator_model():\n",
    "    model = tf.keras.Sequential()\n",
    "    model.add(layers.Dense(7*7*256, use_bias=False, input_shape=(100,)))\n",
    "    model.add(layers.BatchNormalization())\n",
    "    model.add(layers.LeakyReLU())\n",
    "\n",
    "    model.add(layers.Reshape((7, 7, 256)))\n",
    "    assert model.output_shape == (None, 7, 7, 256) # Note: None is the batch size\n",
    "\n",
    "    model.add(layers.Conv2DTranspose(128, (5, 5), strides=(1, 1), padding='same', use_bias=False))\n",
    "    assert model.output_shape == (None, 7, 7, 128)\n",
    "    model.add(layers.BatchNormalization())\n",
    "    model.add(layers.LeakyReLU())\n",
    "\n",
    "    model.add(layers.Conv2DTranspose(64, (5, 5), strides=(2, 2), padding='same', use_bias=False))\n",
    "    assert model.output_shape == (None, 14, 14, 64)\n",
    "    model.add(layers.BatchNormalization())\n",
    "    model.add(layers.LeakyReLU())\n",
    "\n",
    "    model.add(layers.Conv2DTranspose(1, (5, 5), strides=(2, 2), padding='same', use_bias=False, activation='tanh'))\n",
    "    assert model.output_shape == (None, 28, 28, 1)\n",
    "\n",
    "    return model"
   ]
  },
  {
   "cell_type": "code",
   "execution_count": 29,
   "metadata": {},
   "outputs": [
    {
     "data": {
      "text/plain": [
       "<matplotlib.image.AxesImage at 0x2c09a58abc8>"
      ]
     },
     "execution_count": 29,
     "metadata": {},
     "output_type": "execute_result"
    },
    {
     "data": {
      "image/png": "[encoded data removed]",
      "text/plain": [
       "<Figure size 432x288 with 1 Axes>"
      ]
     },
     "metadata": {
      "needs_background": "light"
     },
     "output_type": "display_data"
    }
   ],
   "source": [
    "generator = make_generator_model()\n",
    "\n",
    "noise = tf.random.normal([1, 100])\n",
    "generated_image = generator(noise, training=False)\n",
    "\n",
    "plt.imshow(generated_image[0, :, :, 0], cmap='gray')"
   ]
  },
  {
   "cell_type": "markdown",
   "metadata": {},
   "source": [
    "#### The Discriminator"
   ]
  },
  {
   "cell_type": "code",
   "execution_count": 30,
   "metadata": {},
   "outputs": [],
   "source": [
    "def make_discriminator_model():\n",
    "    model = tf.keras.Sequential()\n",
    "    model.add(layers.Conv2D(64, (5, 5), strides=(2, 2), padding='same',\n",
    "                                     input_shape=[28, 28, 1]))\n",
    "    model.add(layers.LeakyReLU())\n",
    "    model.add(layers.Dropout(0.3))\n",
    "\n",
    "    model.add(layers.Conv2D(128, (5, 5), strides=(2, 2), padding='same'))\n",
    "    model.add(layers.LeakyReLU())\n",
    "    model.add(layers.Dropout(0.3))\n",
    "\n",
    "    model.add(layers.Flatten())\n",
    "    model.add(layers.Dense(1))\n",
    "\n",
    "    return model"
   ]
  },
  {
   "cell_type": "code",
   "execution_count": 31,
   "metadata": {},
   "outputs": [
    {
     "name": "stdout",
     "output_type": "stream",
     "text": [
      "tf.Tensor([[-0.00392846]], shape=(1, 1), dtype=float32)\n"
     ]
    }
   ],
   "source": [
    "discriminator = make_discriminator_model()\n",
    "decision = discriminator(generated_image)\n",
    "print (decision)"
   ]
  },
  {
   "cell_type": "markdown",
   "metadata": {},
   "source": [
    "##### Define the loss and optimizers "
   ]
  },
  {
   "cell_type": "code",
   "execution_count": 32,
   "metadata": {},
   "outputs": [],
   "source": [
    "# This method returns a helper function to compute cross entropy loss\n",
    "cross_entropy = tf.keras.losses.BinaryCrossentropy(from_logits=True)"
   ]
  },
  {
   "cell_type": "code",
   "execution_count": 33,
   "metadata": {},
   "outputs": [],
   "source": [
    "def discriminator_loss(real_output, fake_output):\n",
    "    real_loss = cross_entropy(tf.ones_like(real_output), real_output)\n",
    "    fake_loss = cross_entropy(tf.zeros_like(fake_output), fake_output)\n",
    "    total_loss = real_loss + fake_loss\n",
    "    return total_loss"
   ]
  },
  {
   "cell_type": "code",
   "execution_count": 34,
   "metadata": {},
   "outputs": [],
   "source": [
    "\n",
    "\n",
    "def generator_loss(fake_output):\n",
    "    return cross_entropy(tf.ones_like(fake_output), fake_output)\n",
    "\n"
   ]
  },
  {
   "cell_type": "code",
   "execution_count": 35,
   "metadata": {},
   "outputs": [],
   "source": [
    "generator_optimizer = tf.keras.optimizers.Adam(1e-4)\n",
    "discriminator_optimizer = tf.keras.optimizers.Adam(1e-4)"
   ]
  },
  {
   "cell_type": "code",
   "execution_count": 36,
   "metadata": {},
   "outputs": [],
   "source": [
    "checkpoint_dir = './training_checkpoints'\n",
    "checkpoint_prefix = os.path.join(checkpoint_dir, \"ckpt\")\n",
    "checkpoint = tf.train.Checkpoint(generator_optimizer=generator_optimizer,\n",
    "                                 discriminator_optimizer=discriminator_optimizer,\n",
    "                                 generator=generator,\n",
    "                                 discriminator=discriminator)"
   ]
  },
  {
   "cell_type": "markdown",
   "metadata": {},
   "source": [
    "#### Define the training loop"
   ]
  },
  {
   "cell_type": "code",
   "execution_count": 37,
   "metadata": {},
   "outputs": [],
   "source": [
    "EPOCHS = 50\n",
    "noise_dim = 100\n",
    "num_examples_to_generate = 16\n",
    "\n",
    "# We will reuse this seed overtime (so it's easier)\n",
    "# to visualize progress in the animated GIF)\n",
    "seed = tf.random.normal([num_examples_to_generate, noise_dim])"
   ]
  },
  {
   "cell_type": "code",
   "execution_count": 38,
   "metadata": {},
   "outputs": [],
   "source": [
    "# Notice the use of `tf.function`\n",
    "# This annotation causes the function to be \"compiled\".\n",
    "@tf.function\n",
    "def train_step(images):\n",
    "    noise = tf.random.normal([BATCH_SIZE, noise_dim])\n",
    "\n",
    "    with tf.GradientTape() as gen_tape, tf.GradientTape() as disc_tape:\n",
    "        generated_images = generator(noise, training=True)\n",
    "        \n",
    "        real_output = discriminator(images, training=True)\n",
    "        fake_output = discriminator(generated_images, training=True)\n",
    "        \n",
    "        gen_loss = generator_loss(fake_output)\n",
    "        disc_loss = discriminator_loss(real_output, fake_output)\n",
    "    \n",
    "    gradients_of_generator = gen_tape.gradient(gen_loss, generator.trainable_variables)\n",
    "    gradients_of_discriminator = disc_tape.gradient(disc_loss, discriminator.trainable_variables)\n",
    "\n",
    "    generator_optimizer.apply_gradients(zip(gradients_of_generator, generator.trainable_variables))\n",
    "    discriminator_optimizer.apply_gradients(zip(gradients_of_discriminator, discriminator.trainable_variables))"
   ]
  },
  {
   "cell_type": "code",
   "execution_count": 39,
   "metadata": {},
   "outputs": [],
   "source": [
    "def train(dataset, epochs):\n",
    "    for epoch in range(epochs):\n",
    "        start = time.time()\n",
    "        \n",
    "        for image_batch in dataset:\n",
    "            train_step(image_batch)\n",
    "        # Produce images for the GIF as we go\n",
    "        display.clear_output(wait=True)\n",
    "        generate_and_save_images(generator,epoch + 1,seed)\n",
    "        \n",
    "        # Save the model every 15 epochs\n",
    "        if (epoch + 1) % 15 == 0:\n",
    "            checkpoint.save(file_prefix = checkpoint_prefix)\n",
    "        \n",
    "        print ('Time for epoch {} is {} sec'.format(epoch + 1, time.time()-start))\n",
    "    # Generate after the final epoch\n",
    "    display.clear_output(wait=True)\n",
    "    generate_and_save_images(generator,epochs,seed)"
   ]
  },
  {
   "cell_type": "code",
   "execution_count": 40,
   "metadata": {},
   "outputs": [],
   "source": [
    "def generate_and_save_images(model, epoch, test_input):\n",
    "    # Notice `training` is set to False.\n",
    "    # This is so all layers run in inference mode (batchnorm).\n",
    "    predictions = model(test_input, training=False)\n",
    "    \n",
    "    fig = plt.figure(figsize=(4,4))\n",
    "    \n",
    "    for i in range(predictions.shape[0]):\n",
    "        plt.subplot(4, 4, i+1)\n",
    "        plt.imshow(predictions[i, :, :, 0] * 127.5 + 127.5, cmap='gray')\n",
    "        plt.axis('off')\n",
    "        \n",
    "    plt.savefig('image_at_epoch_{:04d}.png'.format(epoch))\n",
    "    plt.show()"
   ]
  },
  {
   "cell_type": "markdown",
   "metadata": {},
   "source": [
    "#### Train the model"
   ]
  },
  {
   "cell_type": "code",
   "execution_count": 41,
   "metadata": {},
   "outputs": [
    {
     "data": {
      "image/png": "[encoded data removed]",
      "text/plain": [
       "<Figure size 288x288 with 16 Axes>"
      ]
     },
     "metadata": {
      "needs_background": "light"
     },
     "output_type": "display_data"
    }
   ],
   "source": [
    "train(train_dataset, EPOCHS)"
   ]
  },
  {
   "cell_type": "code",
   "execution_count": 42,
   "metadata": {},
   "outputs": [
    {
     "data": {
      "text/plain": [
       "<tensorflow.python.training.tracking.util.CheckpointLoadStatus at 0x2c09afc0548>"
      ]
     },
     "execution_count": 42,
     "metadata": {},
     "output_type": "execute_result"
    }
   ],
   "source": [
    "checkpoint.restore(tf.train.latest_checkpoint(checkpoint_dir))"
   ]
  },
  {
   "cell_type": "code",
   "execution_count": 43,
   "metadata": {},
   "outputs": [],
   "source": [
    "# Display a single image using the epoch number\n",
    "def display_image(epoch_no):\n",
    "    return PIL.Image.open('image_at_epoch_{:04d}.png'.format(epoch_no))"
   ]
  },
  {
   "cell_type": "code",
   "execution_count": 44,
   "metadata": {},
   "outputs": [
    {
     "data": {
      "image/png": "[encoded data removed]",
      "text/plain": [
       "<PIL.PngImagePlugin.PngImageFile image mode=RGBA size=288x288 at 0x2C0AC3C8588>"
      ]
     },
     "execution_count": 44,
     "metadata": {},
     "output_type": "execute_result"
    }
   ],
   "source": [
    "display_image(EPOCHS)"
   ]
  },
  {
   "cell_type": "code",
   "execution_count": 45,
   "metadata": {},
   "outputs": [],
   "source": [
    "anim_file = 'dcgan.gif'\n",
    "\n",
    "with imageio.get_writer(anim_file, mode='I') as writer:\n",
    "    filenames = glob.glob('image*.png')\n",
    "    filenames = sorted(filenames)\n",
    "    last = -1\n",
    "    for i,filename in enumerate(filenames):\n",
    "        frame = 2*(i**0.5)\n",
    "        if round(frame) > round(last):\n",
    "            last = frame\n",
    "        else:\n",
    "            continue\n",
    "        image = imageio.imread(filename)\n",
    "        writer.append_data(image)\n",
    "    image = imageio.imread(filename)\n",
    "    writer.append_data(image)\n",
    "\n",
    "import IPython\n",
    "if IPython.version_info > (6,2,0,''):\n",
    "    display.Image(filename=anim_file)"
   ]
  },
  {
   "cell_type": "markdown",
   "metadata": {},
   "source": [
    "### Next steps \n",
    "\n",
    "#### Celebrity Face\n",
    "\n",
    "Source : https://colab.research.google.com/github/jeffheaton/t81_558_deep_learning/blob/master/t81_558_class_07_2_Keras_gan.ipynb"
   ]
  },
  {
   "cell_type": "code",
   "execution_count": 12,
   "metadata": {},
   "outputs": [],
   "source": [
    "import tensorflow as tf\n",
    "from tensorflow.keras.layers import Input, Reshape, Dropout, Dense \n",
    "from tensorflow.keras.layers import Flatten, BatchNormalization\n",
    "from tensorflow.keras.layers import Activation, ZeroPadding2D\n",
    "from tensorflow.keras.layers import LeakyReLU\n",
    "from tensorflow.keras.layers import UpSampling2D, Conv2D\n",
    "from tensorflow.keras.models import Sequential, Model, load_model\n",
    "from tensorflow.keras.optimizers import Adam\n",
    "import numpy as np\n",
    "from PIL import Image\n",
    "from tqdm import tqdm\n",
    "import os \n",
    "import time\n",
    "import matplotlib.pyplot as plt"
   ]
  },
  {
   "cell_type": "code",
   "execution_count": 13,
   "metadata": {},
   "outputs": [],
   "source": [
    "# Nicely formatted time string\n",
    "def hms_string(sec_elapsed):\n",
    "    h = int(sec_elapsed / (60 * 60))\n",
    "    m = int((sec_elapsed % (60 * 60)) / 60)\n",
    "    s = sec_elapsed % 60\n",
    "    return \"{}:{:>02}:{:>05.2f}\".format(h, m, s)"
   ]
  },
  {
   "cell_type": "code",
   "execution_count": 14,
   "metadata": {},
   "outputs": [
    {
     "name": "stdout",
     "output_type": "stream",
     "text": [
      "Will generate 96px square images.\n"
     ]
    }
   ],
   "source": [
    "# Generation resolution - Must be square \n",
    "# Training data is also scaled to this.\n",
    "# Note GENERATE_RES 4 or higher  \n",
    "# will blow Google CoLab's memory and have not\n",
    "# been tested extensivly.\n",
    "GENERATE_RES = 3 # Generation resolution factor \n",
    "# (1=32, 2=64, 3=96, 4=128, etc.)\n",
    "GENERATE_SQUARE = 32 * GENERATE_RES # rows/cols (should be square)\n",
    "IMAGE_CHANNELS = 3\n",
    "\n",
    "# Preview image \n",
    "PREVIEW_ROWS = 4\n",
    "PREVIEW_COLS = 7\n",
    "PREVIEW_MARGIN = 16\n",
    "\n",
    "# Size vector to generate images from\n",
    "SEED_SIZE = 100\n",
    "\n",
    "# Configuration\n",
    "DATA_PATH = 'img_align_celeba/'\n",
    "EPOCHS = 50\n",
    "BATCH_SIZE = 32\n",
    "BUFFER_SIZE = 60000\n",
    "\n",
    "print(f\"Will generate {GENERATE_SQUARE}px square images.\")"
   ]
  },
  {
   "cell_type": "code",
   "execution_count": 15,
   "metadata": {},
   "outputs": [
    {
     "name": "stdout",
     "output_type": "stream",
     "text": [
      "Will generate 96px square images.\n"
     ]
    }
   ],
   "source": [
    "# Generation resolution - Must be square \n",
    "# Training data is also scaled to this.\n",
    "# Note GENERATE_RES 4 or higher  \n",
    "# will blow Google CoLab's memory and have not\n",
    "# been tested extensivly.\n",
    "GENERATE_RES = 3 # Generation resolution factor \n",
    "# (1=32, 2=64, 3=96, 4=128, etc.)\n",
    "GENERATE_SQUARE = 32 * GENERATE_RES # rows/cols (should be square)\n",
    "IMAGE_CHANNELS = 3\n",
    "\n",
    "# Preview image \n",
    "PREVIEW_ROWS = 4\n",
    "PREVIEW_COLS = 7\n",
    "PREVIEW_MARGIN = 16\n",
    "\n",
    "# Size vector to generate images from\n",
    "SEED_SIZE = 100\n",
    "\n",
    "# Configuration\n",
    "DATA_PATH = 'img_align_celeba/'\n",
    "EPOCHS = 50\n",
    "BATCH_SIZE = 32\n",
    "BUFFER_SIZE = 60000\n",
    "\n",
    "print(f\"Will generate {GENERATE_SQUARE}px square images.\")"
   ]
  },
  {
   "cell_type": "code",
   "execution_count": 16,
   "metadata": {},
   "outputs": [
    {
     "name": "stdout",
     "output_type": "stream",
     "text": [
      "Looking for file: img_align_celeba/training_data_96_96.npy\n",
      "Loading previous training pickle...\n"
     ]
    }
   ],
   "source": [
    "# Image set has 11,682 images.  Can take over an hour \n",
    "# for initial preprocessing.\n",
    "# Because of this time needed, save a Numpy preprocessed file.\n",
    "# Note, that file is large enough to cause problems for \n",
    "# sume verisons of Pickle,\n",
    "# so Numpy binary files are used.\n",
    "training_binary_path = os.path.join(DATA_PATH,\n",
    "        f'training_data_{GENERATE_SQUARE}_{GENERATE_SQUARE}.npy')\n",
    "\n",
    "print(f\"Looking for file: {training_binary_path}\")\n",
    "\n",
    "if not os.path.isfile(training_binary_path):\n",
    "    start = time.time()\n",
    "    print(\"Loading training images...\")\n",
    "\n",
    "    training_data = []\n",
    "    faces_path = os.path.join(DATA_PATH,'face_images')\n",
    "    for filename in tqdm(os.listdir(faces_path)):\n",
    "        path = os.path.join(faces_path,filename)\n",
    "        image = Image.open(path).resize((GENERATE_SQUARE,\n",
    "            GENERATE_SQUARE),Image.ANTIALIAS)\n",
    "        training_data.append(np.asarray(image))\n",
    "        training_data = np.reshape(training_data,(-1,GENERATE_SQUARE,\n",
    "            GENERATE_SQUARE,IMAGE_CHANNELS))\n",
    "        training_data = training_data.astype(np.float32)\n",
    "        training_data = training_data / 127.5 - 1.\n",
    "\n",
    "\n",
    "    print(\"Saving training image binary...\")\n",
    "    np.save(training_binary_path,training_data)\n",
    "    elapsed = time.time()-start\n",
    "    print (f'Image preprocess time: {hms_string(elapsed)}')\n",
    "else:\n",
    "    print(\"Loading previous training pickle...\")\n",
    "    training_data = np.load(training_binary_path)"
   ]
  },
  {
   "cell_type": "code",
   "execution_count": 17,
   "metadata": {},
   "outputs": [],
   "source": [
    "# Batch and shuffle the data\n",
    "train_dataset = tf.data.Dataset.from_tensor_slices(training_data) \\\n",
    "    .shuffle(BUFFER_SIZE).batch(BATCH_SIZE)"
   ]
  },
  {
   "cell_type": "code",
   "execution_count": 18,
   "metadata": {},
   "outputs": [],
   "source": [
    "def build_generator(seed_size, channels):\n",
    "    model = Sequential()\n",
    "\n",
    "    model.add(Dense(4*4*256,activation=\"relu\",input_dim=seed_size))\n",
    "    model.add(Reshape((4,4,256)))\n",
    "\n",
    "    model.add(UpSampling2D())\n",
    "    model.add(Conv2D(256,kernel_size=3,padding=\"same\"))\n",
    "    model.add(BatchNormalization(momentum=0.8))\n",
    "    model.add(Activation(\"relu\"))\n",
    "\n",
    "    model.add(UpSampling2D())\n",
    "    model.add(Conv2D(256,kernel_size=3,padding=\"same\"))\n",
    "    model.add(BatchNormalization(momentum=0.8))\n",
    "    model.add(Activation(\"relu\"))\n",
    "   \n",
    "    # Output resolution, additional upsampling\n",
    "    model.add(UpSampling2D())\n",
    "    model.add(Conv2D(128,kernel_size=3,padding=\"same\"))\n",
    "    model.add(BatchNormalization(momentum=0.8))\n",
    "    model.add(Activation(\"relu\"))\n",
    "\n",
    "    if GENERATE_RES>1:\n",
    "        model.add(UpSampling2D(size=(GENERATE_RES,GENERATE_RES)))\n",
    "        model.add(Conv2D(128,kernel_size=3,padding=\"same\"))\n",
    "        model.add(BatchNormalization(momentum=0.8))\n",
    "        model.add(Activation(\"relu\"))\n",
    "\n",
    "    # Final CNN layer\n",
    "    model.add(Conv2D(channels,kernel_size=3,padding=\"same\"))\n",
    "    model.add(Activation(\"tanh\"))\n",
    "\n",
    "    return model\n",
    "\n",
    "\n",
    "def build_discriminator(image_shape):\n",
    "    model = Sequential()\n",
    "\n",
    "    model.add(Conv2D(32, kernel_size=3, strides=2, input_shape=image_shape, \n",
    "                     padding=\"same\"))\n",
    "    model.add(LeakyReLU(alpha=0.2))\n",
    "\n",
    "    model.add(Dropout(0.25))\n",
    "    model.add(Conv2D(64, kernel_size=3, strides=2, padding=\"same\"))\n",
    "    model.add(ZeroPadding2D(padding=((0,1),(0,1))))\n",
    "    model.add(BatchNormalization(momentum=0.8))\n",
    "    model.add(LeakyReLU(alpha=0.2))\n",
    "\n",
    "    model.add(Dropout(0.25))\n",
    "    model.add(Conv2D(128, kernel_size=3, strides=2, padding=\"same\"))\n",
    "    model.add(BatchNormalization(momentum=0.8))\n",
    "    model.add(LeakyReLU(alpha=0.2))\n",
    "\n",
    "    model.add(Dropout(0.25))\n",
    "    model.add(Conv2D(256, kernel_size=3, strides=1, padding=\"same\"))\n",
    "    model.add(BatchNormalization(momentum=0.8))\n",
    "    model.add(LeakyReLU(alpha=0.2))\n",
    "\n",
    "    model.add(Dropout(0.25))\n",
    "    model.add(Conv2D(512, kernel_size=3, strides=1, padding=\"same\"))\n",
    "    model.add(BatchNormalization(momentum=0.8))\n",
    "    model.add(LeakyReLU(alpha=0.2))\n",
    "\n",
    "    model.add(Dropout(0.25))\n",
    "    model.add(Flatten())\n",
    "    model.add(Dense(1, activation='sigmoid'))\n",
    "\n",
    "    return model"
   ]
  },
  {
   "cell_type": "code",
   "execution_count": 19,
   "metadata": {},
   "outputs": [],
   "source": [
    "def save_images(cnt,noise):\n",
    "    image_array = np.full(( \n",
    "    PREVIEW_MARGIN + (PREVIEW_ROWS * (GENERATE_SQUARE+PREVIEW_MARGIN)), \n",
    "    PREVIEW_MARGIN + (PREVIEW_COLS * (GENERATE_SQUARE+PREVIEW_MARGIN)), 3), \n",
    "    255, dtype=np.uint8)\n",
    "  \n",
    "    generated_images = generator.predict(noise)\n",
    "\n",
    "    generated_images = 0.5 * generated_images + 0.5\n",
    "\n",
    "    image_count = 0\n",
    "    for row in range(PREVIEW_ROWS):\n",
    "        for col in range(PREVIEW_COLS):\n",
    "            r = row * (GENERATE_SQUARE+16) + PREVIEW_MARGIN\n",
    "            c = col * (GENERATE_SQUARE+16) + PREVIEW_MARGIN\n",
    "            image_array[r:r+GENERATE_SQUARE,c:c+GENERATE_SQUARE] \\\n",
    "                = generated_images[image_count] * 255\n",
    "            image_count += 1\n",
    "\n",
    "          \n",
    "    output_path = os.path.join(DATA_PATH,'output')\n",
    "    if not os.path.exists(output_path):\n",
    "        os.makedirs(output_path)\n",
    "  \n",
    "    filename = os.path.join(output_path,f\"train-{cnt}.png\")\n",
    "    im = Image.fromarray(image_array)\n",
    "    im.save(filename)"
   ]
  },
  {
   "cell_type": "code",
   "execution_count": 20,
   "metadata": {},
   "outputs": [
    {
     "data": {
      "text/plain": [
       "<matplotlib.image.AxesImage at 0x1f91003fe08>"
      ]
     },
     "execution_count": 20,
     "metadata": {},
     "output_type": "execute_result"
    },
    {
     "data": {
      "image/png": "[encoded data removed]",
      "text/plain": [
       "<Figure size 432x288 with 1 Axes>"
      ]
     },
     "metadata": {
      "needs_background": "light"
     },
     "output_type": "display_data"
    }
   ],
   "source": [
    "generator = build_generator(SEED_SIZE, IMAGE_CHANNELS)\n",
    "\n",
    "noise = tf.random.normal([1, SEED_SIZE])\n",
    "generated_image = generator(noise, training=False)\n",
    "\n",
    "plt.imshow(generated_image[0, :, :, 0])"
   ]
  },
  {
   "cell_type": "code",
   "execution_count": 21,
   "metadata": {},
   "outputs": [
    {
     "name": "stdout",
     "output_type": "stream",
     "text": [
      "tf.Tensor([[0.50061023]], shape=(1, 1), dtype=float32)\n"
     ]
    }
   ],
   "source": [
    "image_shape = (GENERATE_SQUARE,GENERATE_SQUARE,IMAGE_CHANNELS)\n",
    "\n",
    "discriminator = build_discriminator(image_shape)\n",
    "decision = discriminator(generated_image)\n",
    "print (decision)"
   ]
  },
  {
   "cell_type": "code",
   "execution_count": 22,
   "metadata": {},
   "outputs": [],
   "source": [
    "# This method returns a helper function to compute cross entropy loss\n",
    "cross_entropy = tf.keras.losses.BinaryCrossentropy()\n",
    "\n",
    "def discriminator_loss(real_output, fake_output):\n",
    "    real_loss = cross_entropy(tf.ones_like(real_output), real_output)\n",
    "    fake_loss = cross_entropy(tf.zeros_like(fake_output), fake_output)\n",
    "    total_loss = real_loss + fake_loss\n",
    "    return total_loss\n",
    "\n",
    "def generator_loss(fake_output):\n",
    "    return cross_entropy(tf.ones_like(fake_output), fake_output)"
   ]
  },
  {
   "cell_type": "code",
   "execution_count": 23,
   "metadata": {},
   "outputs": [],
   "source": [
    "# This method returns a helper function to compute cross entropy loss\n",
    "cross_entropy = tf.keras.losses.BinaryCrossentropy()\n",
    "\n",
    "def discriminator_loss(real_output, fake_output):\n",
    "    real_loss = cross_entropy(tf.ones_like(real_output), real_output)\n",
    "    fake_loss = cross_entropy(tf.zeros_like(fake_output), fake_output)\n",
    "    total_loss = real_loss + fake_loss\n",
    "    return total_loss\n",
    "\n",
    "def generator_loss(fake_output):\n",
    "    return cross_entropy(tf.ones_like(fake_output), fake_output)"
   ]
  },
  {
   "cell_type": "code",
   "execution_count": 24,
   "metadata": {},
   "outputs": [],
   "source": [
    "generator_optimizer = tf.keras.optimizers.Adam(1.5e-4,0.5)\n",
    "discriminator_optimizer = tf.keras.optimizers.Adam(1.5e-4,0.5)"
   ]
  },
  {
   "cell_type": "code",
   "execution_count": 25,
   "metadata": {},
   "outputs": [],
   "source": [
    "# Notice the use of `tf.function`\n",
    "# This annotation causes the function to be \"compiled\".\n",
    "@tf.function\n",
    "def train_step(images):\n",
    "    seed = tf.random.normal([BATCH_SIZE, SEED_SIZE])\n",
    "\n",
    "    with tf.GradientTape() as gen_tape, tf.GradientTape() as disc_tape:\n",
    "        generated_images = generator(seed, training=True)\n",
    "\n",
    "        real_output = discriminator(images, training=True)\n",
    "        fake_output = discriminator(generated_images, training=True)\n",
    "\n",
    "        gen_loss = generator_loss(fake_output)\n",
    "        disc_loss = discriminator_loss(real_output, fake_output)\n",
    "    \n",
    "\n",
    "        gradients_of_generator = gen_tape.gradient(\\\n",
    "        gen_loss, generator.trainable_variables)\n",
    "        gradients_of_discriminator = disc_tape.gradient(\\\n",
    "        disc_loss, discriminator.trainable_variables)\n",
    "\n",
    "        generator_optimizer.apply_gradients(zip(\n",
    "        gradients_of_generator, generator.trainable_variables))\n",
    "        discriminator_optimizer.apply_gradients(zip(\n",
    "        gradients_of_discriminator, \n",
    "        discriminator.trainable_variables))\n",
    "        \n",
    "    return gen_loss,disc_loss"
   ]
  },
  {
   "cell_type": "code",
   "execution_count": 26,
   "metadata": {},
   "outputs": [],
   "source": [
    "def train(dataset, epochs):\n",
    "    fixed_seed = np.random.normal(0, 1, (PREVIEW_ROWS * PREVIEW_COLS, \n",
    "                                       SEED_SIZE))\n",
    "    start = time.time()\n",
    "\n",
    "    for epoch in range(epochs):\n",
    "        epoch_start = time.time()\n",
    "\n",
    "        gen_loss_list = []\n",
    "        disc_loss_list = []\n",
    "\n",
    "        for image_batch in dataset:\n",
    "            t = train_step(image_batch)\n",
    "            gen_loss_list.append(t[0])\n",
    "            disc_loss_list.append(t[1])\n",
    "\n",
    "            g_loss = sum(gen_loss_list) / len(gen_loss_list)\n",
    "            d_loss = sum(disc_loss_list) / len(disc_loss_list)\n",
    "\n",
    "            epoch_elapsed = time.time()-epoch_start\n",
    "            print (f'Epoch {epoch+1}, gen loss={g_loss},disc loss={d_loss},'\\\n",
    "                ' {hms_string(epoch_elapsed)}')\n",
    "            save_images(epoch,fixed_seed)\n",
    "\n",
    "        elapsed = time.time()-start\n",
    "        print (f'Training time: {hms_string(elapsed)}')\n"
   ]
  },
  {
   "cell_type": "code",
   "execution_count": 27,
   "metadata": {},
   "outputs": [
    {
     "name": "stdout",
     "output_type": "stream",
     "text": [
      "Epoch 1, gen loss=0.8632823824882507,disc loss=1.7744557857513428, {hms_string(epoch_elapsed)}\n",
      "Epoch 1, gen loss=0.8970813751220703,disc loss=1.4059808254241943, {hms_string(epoch_elapsed)}\n",
      "Training time: 0:00:22.55\n",
      "Epoch 2, gen loss=1.782757043838501,disc loss=0.8136945366859436, {hms_string(epoch_elapsed)}\n",
      "Epoch 2, gen loss=1.4408191442489624,disc loss=0.8235467672348022, {hms_string(epoch_elapsed)}\n",
      "Training time: 0:00:41.17\n",
      "Epoch 3, gen loss=2.2011680603027344,disc loss=0.7682195901870728, {hms_string(epoch_elapsed)}\n",
      "Epoch 3, gen loss=1.5617939233779907,disc loss=0.8584320545196533, {hms_string(epoch_elapsed)}\n",
      "Training time: 0:01:00.93\n",
      "Epoch 4, gen loss=1.9948911666870117,disc loss=0.7132080793380737, {hms_string(epoch_elapsed)}\n",
      "Epoch 4, gen loss=1.9888083934783936,disc loss=0.8642044067382812, {hms_string(epoch_elapsed)}\n",
      "Training time: 0:01:19.22\n",
      "Epoch 5, gen loss=1.1141796112060547,disc loss=0.7278387546539307, {hms_string(epoch_elapsed)}\n",
      "Epoch 5, gen loss=1.8857269287109375,disc loss=0.5487614870071411, {hms_string(epoch_elapsed)}\n",
      "Training time: 0:01:37.99\n",
      "Epoch 6, gen loss=4.0670857429504395,disc loss=0.3763447701931, {hms_string(epoch_elapsed)}\n",
      "Epoch 6, gen loss=3.6824004650115967,disc loss=0.2817516326904297, {hms_string(epoch_elapsed)}\n",
      "Training time: 0:01:57.11\n",
      "Epoch 7, gen loss=2.0924558639526367,disc loss=0.32983162999153137, {hms_string(epoch_elapsed)}\n",
      "Epoch 7, gen loss=2.6788578033447266,disc loss=0.28820714354515076, {hms_string(epoch_elapsed)}\n",
      "Training time: 0:02:15.32\n",
      "Epoch 8, gen loss=3.1602232456207275,disc loss=0.22085121273994446, {hms_string(epoch_elapsed)}\n",
      "Epoch 8, gen loss=3.0597686767578125,disc loss=0.18867981433868408, {hms_string(epoch_elapsed)}\n",
      "Training time: 0:02:34.03\n",
      "Epoch 9, gen loss=2.456674098968506,disc loss=0.36846739053726196, {hms_string(epoch_elapsed)}\n",
      "Epoch 9, gen loss=2.74107027053833,disc loss=0.29017898440361023, {hms_string(epoch_elapsed)}\n",
      "Training time: 0:02:52.76\n",
      "Epoch 10, gen loss=2.4018807411193848,disc loss=0.5138900279998779, {hms_string(epoch_elapsed)}\n",
      "Epoch 10, gen loss=1.9804269075393677,disc loss=0.5104272365570068, {hms_string(epoch_elapsed)}\n",
      "Training time: 0:03:11.40\n",
      "Epoch 11, gen loss=3.5516841411590576,disc loss=0.4932694137096405, {hms_string(epoch_elapsed)}\n",
      "Epoch 11, gen loss=2.772810935974121,disc loss=0.4988855719566345, {hms_string(epoch_elapsed)}\n",
      "Training time: 0:03:29.56\n",
      "Epoch 12, gen loss=2.6001479625701904,disc loss=0.3167755603790283, {hms_string(epoch_elapsed)}\n",
      "Epoch 12, gen loss=3.4903979301452637,disc loss=0.22314801812171936, {hms_string(epoch_elapsed)}\n",
      "Training time: 0:03:48.21\n",
      "Epoch 13, gen loss=4.253883361816406,disc loss=0.24748319387435913, {hms_string(epoch_elapsed)}\n",
      "Epoch 13, gen loss=3.2290375232696533,disc loss=0.2645793557167053, {hms_string(epoch_elapsed)}\n",
      "Training time: 0:04:10.22\n",
      "Epoch 14, gen loss=4.064034461975098,disc loss=0.20954981446266174, {hms_string(epoch_elapsed)}\n",
      "Epoch 14, gen loss=4.13973331451416,disc loss=0.1614842712879181, {hms_string(epoch_elapsed)}\n",
      "Training time: 0:04:30.29\n",
      "Epoch 15, gen loss=4.155429840087891,disc loss=0.10967545211315155, {hms_string(epoch_elapsed)}\n",
      "Epoch 15, gen loss=3.696793556213379,disc loss=0.17015036940574646, {hms_string(epoch_elapsed)}\n",
      "Training time: 0:04:48.75\n",
      "Epoch 16, gen loss=2.7509660720825195,disc loss=0.16468608379364014, {hms_string(epoch_elapsed)}\n",
      "Epoch 16, gen loss=2.969851493835449,disc loss=0.1902032494544983, {hms_string(epoch_elapsed)}\n",
      "Training time: 0:05:07.43\n",
      "Epoch 17, gen loss=3.2210607528686523,disc loss=0.2099253237247467, {hms_string(epoch_elapsed)}\n",
      "Epoch 17, gen loss=3.2726595401763916,disc loss=0.19662877917289734, {hms_string(epoch_elapsed)}\n",
      "Training time: 0:05:26.39\n",
      "Epoch 18, gen loss=3.5060715675354004,disc loss=0.13925237953662872, {hms_string(epoch_elapsed)}\n",
      "Epoch 18, gen loss=3.276266098022461,disc loss=0.18283575773239136, {hms_string(epoch_elapsed)}\n",
      "Training time: 0:05:44.90\n",
      "Epoch 19, gen loss=3.1606132984161377,disc loss=0.14610490202903748, {hms_string(epoch_elapsed)}\n",
      "Epoch 19, gen loss=3.3220267295837402,disc loss=0.16552123427391052, {hms_string(epoch_elapsed)}\n",
      "Training time: 0:06:03.78\n",
      "Epoch 20, gen loss=3.033402919769287,disc loss=0.24613767862319946, {hms_string(epoch_elapsed)}\n",
      "Epoch 20, gen loss=2.764401435852051,disc loss=0.35696879029273987, {hms_string(epoch_elapsed)}\n",
      "Training time: 0:06:22.62\n",
      "Epoch 21, gen loss=2.1585490703582764,disc loss=0.33141958713531494, {hms_string(epoch_elapsed)}\n",
      "Epoch 21, gen loss=3.481482982635498,disc loss=0.38155078887939453, {hms_string(epoch_elapsed)}\n",
      "Training time: 0:06:41.24\n",
      "Epoch 22, gen loss=2.4997057914733887,disc loss=0.38074392080307007, {hms_string(epoch_elapsed)}\n",
      "Epoch 22, gen loss=3.4128451347351074,disc loss=0.25800132751464844, {hms_string(epoch_elapsed)}\n",
      "Training time: 0:06:59.44\n",
      "Epoch 23, gen loss=4.426308631896973,disc loss=0.19046136736869812, {hms_string(epoch_elapsed)}\n",
      "Epoch 23, gen loss=3.574113607406616,disc loss=0.29341262578964233, {hms_string(epoch_elapsed)}\n",
      "Training time: 0:07:18.14\n",
      "Epoch 24, gen loss=3.7458343505859375,disc loss=0.3585726022720337, {hms_string(epoch_elapsed)}\n",
      "Epoch 24, gen loss=3.631068229675293,disc loss=0.3637123703956604, {hms_string(epoch_elapsed)}\n",
      "Training time: 0:07:37.40\n",
      "Epoch 25, gen loss=2.6844048500061035,disc loss=0.31462323665618896, {hms_string(epoch_elapsed)}\n",
      "Epoch 25, gen loss=2.258411169052124,disc loss=0.8752705454826355, {hms_string(epoch_elapsed)}\n",
      "Training time: 0:07:55.83\n",
      "Epoch 26, gen loss=4.0971245765686035,disc loss=0.5854964852333069, {hms_string(epoch_elapsed)}\n",
      "Epoch 26, gen loss=3.209315299987793,disc loss=0.4448571801185608, {hms_string(epoch_elapsed)}\n",
      "Training time: 0:08:14.32\n",
      "Epoch 27, gen loss=3.8651328086853027,disc loss=0.22025544941425323, {hms_string(epoch_elapsed)}\n",
      "Epoch 27, gen loss=4.205785751342773,disc loss=0.1723717749118805, {hms_string(epoch_elapsed)}\n",
      "Training time: 0:08:33.10\n",
      "Epoch 28, gen loss=3.2733712196350098,disc loss=0.170569509267807, {hms_string(epoch_elapsed)}\n",
      "Epoch 28, gen loss=4.0316314697265625,disc loss=0.2006501853466034, {hms_string(epoch_elapsed)}\n",
      "Training time: 0:08:51.36\n",
      "Epoch 29, gen loss=2.8914852142333984,disc loss=0.43335509300231934, {hms_string(epoch_elapsed)}\n",
      "Epoch 29, gen loss=4.122909069061279,disc loss=0.4442262649536133, {hms_string(epoch_elapsed)}\n",
      "Training time: 0:09:11.06\n",
      "Epoch 30, gen loss=2.6200814247131348,disc loss=0.36904606223106384, {hms_string(epoch_elapsed)}\n",
      "Epoch 30, gen loss=3.0105948448181152,disc loss=0.412769079208374, {hms_string(epoch_elapsed)}\n",
      "Training time: 0:09:31.95\n",
      "Epoch 31, gen loss=5.462662696838379,disc loss=0.24994471669197083, {hms_string(epoch_elapsed)}\n",
      "Epoch 31, gen loss=4.816023349761963,disc loss=0.1774136871099472, {hms_string(epoch_elapsed)}\n",
      "Training time: 0:09:51.52\n",
      "Epoch 32, gen loss=3.1879215240478516,disc loss=0.34174004197120667, {hms_string(epoch_elapsed)}\n",
      "Epoch 32, gen loss=3.397712469100952,disc loss=0.3075965642929077, {hms_string(epoch_elapsed)}\n",
      "Training time: 0:10:09.81\n",
      "Epoch 33, gen loss=3.6687803268432617,disc loss=0.24254219233989716, {hms_string(epoch_elapsed)}\n",
      "Epoch 33, gen loss=3.163269281387329,disc loss=0.313944011926651, {hms_string(epoch_elapsed)}\n",
      "Training time: 0:10:28.43\n",
      "Epoch 34, gen loss=2.4106369018554688,disc loss=0.5021733045578003, {hms_string(epoch_elapsed)}\n",
      "Epoch 34, gen loss=4.263754844665527,disc loss=0.45031633973121643, {hms_string(epoch_elapsed)}\n",
      "Training time: 0:10:47.31\n",
      "Epoch 35, gen loss=2.3464903831481934,disc loss=0.4787462055683136, {hms_string(epoch_elapsed)}\n",
      "Epoch 35, gen loss=2.785623788833618,disc loss=0.3738707900047302, {hms_string(epoch_elapsed)}\n",
      "Training time: 0:11:06.17\n",
      "Epoch 36, gen loss=1.339525580406189,disc loss=1.337559461593628, {hms_string(epoch_elapsed)}\n",
      "Epoch 36, gen loss=4.324806213378906,disc loss=1.721231460571289, {hms_string(epoch_elapsed)}\n",
      "Training time: 0:11:24.59\n",
      "Epoch 37, gen loss=1.773568868637085,disc loss=0.588947057723999, {hms_string(epoch_elapsed)}\n",
      "Epoch 37, gen loss=3.04544734954834,disc loss=0.33537331223487854, {hms_string(epoch_elapsed)}\n",
      "Training time: 0:11:43.53\n",
      "Epoch 38, gen loss=6.145404815673828,disc loss=0.05961383134126663, {hms_string(epoch_elapsed)}\n",
      "Epoch 38, gen loss=5.047406196594238,disc loss=0.23971398174762726, {hms_string(epoch_elapsed)}\n",
      "Training time: 0:12:02.61\n",
      "Epoch 39, gen loss=0.32062429189682007,disc loss=2.5506815910339355, {hms_string(epoch_elapsed)}\n",
      "Epoch 39, gen loss=5.240499019622803,disc loss=2.6742827892303467, {hms_string(epoch_elapsed)}\n",
      "Training time: 0:12:21.50\n",
      "Epoch 40, gen loss=5.20811653137207,disc loss=0.6526393890380859, {hms_string(epoch_elapsed)}\n",
      "Epoch 40, gen loss=2.7407822608947754,disc loss=1.491735816001892, {hms_string(epoch_elapsed)}\n",
      "Training time: 0:12:40.79\n",
      "Epoch 41, gen loss=10.358884811401367,disc loss=0.3949778378009796, {hms_string(epoch_elapsed)}\n",
      "Epoch 41, gen loss=9.906669616699219,disc loss=0.7444286346435547, {hms_string(epoch_elapsed)}\n",
      "Training time: 0:13:00.43\n",
      "Epoch 42, gen loss=4.196079730987549,disc loss=0.17073436081409454, {hms_string(epoch_elapsed)}\n",
      "Epoch 42, gen loss=3.3658695220947266,disc loss=0.3243797719478607, {hms_string(epoch_elapsed)}\n",
      "Training time: 0:13:19.04\n",
      "Epoch 43, gen loss=5.485699653625488,disc loss=0.05946195870637894, {hms_string(epoch_elapsed)}\n",
      "Epoch 43, gen loss=5.243864059448242,disc loss=0.15535812079906464, {hms_string(epoch_elapsed)}\n",
      "Training time: 0:13:39.16\n",
      "Epoch 44, gen loss=1.5607317686080933,disc loss=0.5488261580467224, {hms_string(epoch_elapsed)}\n",
      "Epoch 44, gen loss=3.030414581298828,disc loss=0.4338751435279846, {hms_string(epoch_elapsed)}\n",
      "Training time: 0:13:59.40\n",
      "Epoch 45, gen loss=4.824994087219238,disc loss=0.29325348138809204, {hms_string(epoch_elapsed)}\n",
      "Epoch 45, gen loss=3.9671664237976074,disc loss=0.2656395435333252, {hms_string(epoch_elapsed)}\n",
      "Training time: 0:14:18.32\n",
      "Epoch 46, gen loss=3.204342842102051,disc loss=0.3598233163356781, {hms_string(epoch_elapsed)}\n",
      "Epoch 46, gen loss=4.237585067749023,disc loss=0.2657070457935333, {hms_string(epoch_elapsed)}\n",
      "Training time: 0:14:37.69\n",
      "Epoch 47, gen loss=3.8065266609191895,disc loss=0.24978207051753998, {hms_string(epoch_elapsed)}\n",
      "Epoch 47, gen loss=3.903104782104492,disc loss=0.32351431250572205, {hms_string(epoch_elapsed)}\n",
      "Training time: 0:14:56.67\n",
      "Epoch 48, gen loss=2.646993637084961,disc loss=0.33007022738456726, {hms_string(epoch_elapsed)}\n",
      "Epoch 48, gen loss=3.2570595741271973,disc loss=0.36313706636428833, {hms_string(epoch_elapsed)}\n",
      "Training time: 0:15:15.56\n",
      "Epoch 49, gen loss=1.5291924476623535,disc loss=0.9648961424827576, {hms_string(epoch_elapsed)}\n",
      "Epoch 49, gen loss=3.712736129760742,disc loss=0.9020918607711792, {hms_string(epoch_elapsed)}\n",
      "Training time: 0:15:34.44\n",
      "Epoch 50, gen loss=3.0071663856506348,disc loss=0.3003310561180115, {hms_string(epoch_elapsed)}\n",
      "Epoch 50, gen loss=2.2500383853912354,disc loss=0.6171805262565613, {hms_string(epoch_elapsed)}\n",
      "Training time: 0:15:54.13\n"
     ]
    }
   ],
   "source": [
    "train(train_dataset, EPOCHS)"
   ]
  },
  {
   "cell_type": "code",
   "execution_count": null,
   "metadata": {},
   "outputs": [],
   "source": []
  }
 ],
 "metadata": {
  "kernelspec": {
   "display_name": "Python 3",
   "language": "python",
   "name": "python3"
  },
  "language_info": {
   "codemirror_mode": {
    "name": "ipython",
    "version": 3
   },
   "file_extension": ".py",
   "mimetype": "text/x-python",
   "name": "python",
   "nbconvert_exporter": "python",
   "pygments_lexer": "ipython3",
   "version": "3.7.9"
  }
 },
 "nbformat": 4,
 "nbformat_minor": 4
}
